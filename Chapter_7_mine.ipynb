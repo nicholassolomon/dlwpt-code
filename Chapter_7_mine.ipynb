{
  "nbformat": 4,
  "nbformat_minor": 0,
  "metadata": {
    "colab": {
      "provenance": [],
      "authorship_tag": "ABX9TyMyWY3EGjmBd6OOAlzEeZcg",
      "include_colab_link": true
    },
    "kernelspec": {
      "name": "python3",
      "display_name": "Python 3"
    },
    "language_info": {
      "name": "python"
    }
  },
  "cells": [
    {
      "cell_type": "markdown",
      "metadata": {
        "id": "view-in-github",
        "colab_type": "text"
      },
      "source": [
        "<a href=\"https://colab.research.google.com/github/nicholassolomon/dlwpt-code/blob/master/Chapter_7_mine.ipynb\" target=\"_parent\"><img src=\"https://colab.research.google.com/assets/colab-badge.svg\" alt=\"Open In Colab\"/></a>"
      ]
    },
    {
      "cell_type": "markdown",
      "source": [
        "# Chapter 7 - Learning from Images\n",
        "* https://learning.oreilly.com/library/view/deep-learning-with/9781617295263/Text/07.xhtml\n",
        "```\n",
        "01.25.24\n",
        "```"
      ],
      "metadata": {
        "id": "_Jq-ImnDH-HO"
      }
    },
    {
      "cell_type": "code",
      "source": [
        "import torch\n",
        "\n",
        "# get data from book repo\n",
        "!git clone https://github.com/deep-learning-with-pytorch/dlwpt-code.git\n",
        "!mv dlwpt-code/data .\n",
        "!rm -rf dlwpt-code\n",
        "\n",
        "# set device\n",
        "device = \"cuda\" if torch.cuda.is_available() else \"cpu\"\n",
        "device\n"
      ],
      "metadata": {
        "id": "4rG_pQeC9C-N"
      },
      "execution_count": null,
      "outputs": []
    },
    {
      "cell_type": "markdown",
      "source": [
        "## 7.1 Datasets"
      ],
      "metadata": {
        "id": "omy2sAEPgtm0"
      }
    },
    {
      "cell_type": "code",
      "source": [
        "# get wine quality csv\n",
        "import pandas as pd\n",
        "url = 'https://archive.ics.uci.edu/ml/machine-learning-databases/wine-quality/winequality-white.csv'\n",
        "df = pd.read_csv(url, sep=\";\")\n",
        "df.to_csv('winequality-white.csv', index=False)\n",
        "df.head()"
      ],
      "metadata": {
        "colab": {
          "base_uri": "https://localhost:8080/",
          "height": 206
        },
        "id": "n7Q1mx4Eh0vF",
        "outputId": "e0a1017d-abe5-44ae-aa7d-536b443ef935"
      },
      "execution_count": 3,
      "outputs": [
        {
          "output_type": "execute_result",
          "data": {
            "text/plain": [
              "   fixed acidity  volatile acidity  citric acid  residual sugar  chlorides  \\\n",
              "0            7.0              0.27         0.36            20.7      0.045   \n",
              "1            6.3              0.30         0.34             1.6      0.049   \n",
              "2            8.1              0.28         0.40             6.9      0.050   \n",
              "3            7.2              0.23         0.32             8.5      0.058   \n",
              "4            7.2              0.23         0.32             8.5      0.058   \n",
              "\n",
              "   free sulfur dioxide  total sulfur dioxide  density    pH  sulphates  \\\n",
              "0                 45.0                 170.0   1.0010  3.00       0.45   \n",
              "1                 14.0                 132.0   0.9940  3.30       0.49   \n",
              "2                 30.0                  97.0   0.9951  3.26       0.44   \n",
              "3                 47.0                 186.0   0.9956  3.19       0.40   \n",
              "4                 47.0                 186.0   0.9956  3.19       0.40   \n",
              "\n",
              "   alcohol  quality  \n",
              "0      8.8        6  \n",
              "1      9.5        6  \n",
              "2     10.1        6  \n",
              "3      9.9        6  \n",
              "4      9.9        6  "
            ],
            "text/html": [
              "\n",
              "  <div id=\"df-7ca0eeac-1f5d-4643-a9df-6c39a7b822c6\" class=\"colab-df-container\">\n",
              "    <div>\n",
              "<style scoped>\n",
              "    .dataframe tbody tr th:only-of-type {\n",
              "        vertical-align: middle;\n",
              "    }\n",
              "\n",
              "    .dataframe tbody tr th {\n",
              "        vertical-align: top;\n",
              "    }\n",
              "\n",
              "    .dataframe thead th {\n",
              "        text-align: right;\n",
              "    }\n",
              "</style>\n",
              "<table border=\"1\" class=\"dataframe\">\n",
              "  <thead>\n",
              "    <tr style=\"text-align: right;\">\n",
              "      <th></th>\n",
              "      <th>fixed acidity</th>\n",
              "      <th>volatile acidity</th>\n",
              "      <th>citric acid</th>\n",
              "      <th>residual sugar</th>\n",
              "      <th>chlorides</th>\n",
              "      <th>free sulfur dioxide</th>\n",
              "      <th>total sulfur dioxide</th>\n",
              "      <th>density</th>\n",
              "      <th>pH</th>\n",
              "      <th>sulphates</th>\n",
              "      <th>alcohol</th>\n",
              "      <th>quality</th>\n",
              "    </tr>\n",
              "  </thead>\n",
              "  <tbody>\n",
              "    <tr>\n",
              "      <th>0</th>\n",
              "      <td>7.0</td>\n",
              "      <td>0.27</td>\n",
              "      <td>0.36</td>\n",
              "      <td>20.7</td>\n",
              "      <td>0.045</td>\n",
              "      <td>45.0</td>\n",
              "      <td>170.0</td>\n",
              "      <td>1.0010</td>\n",
              "      <td>3.00</td>\n",
              "      <td>0.45</td>\n",
              "      <td>8.8</td>\n",
              "      <td>6</td>\n",
              "    </tr>\n",
              "    <tr>\n",
              "      <th>1</th>\n",
              "      <td>6.3</td>\n",
              "      <td>0.30</td>\n",
              "      <td>0.34</td>\n",
              "      <td>1.6</td>\n",
              "      <td>0.049</td>\n",
              "      <td>14.0</td>\n",
              "      <td>132.0</td>\n",
              "      <td>0.9940</td>\n",
              "      <td>3.30</td>\n",
              "      <td>0.49</td>\n",
              "      <td>9.5</td>\n",
              "      <td>6</td>\n",
              "    </tr>\n",
              "    <tr>\n",
              "      <th>2</th>\n",
              "      <td>8.1</td>\n",
              "      <td>0.28</td>\n",
              "      <td>0.40</td>\n",
              "      <td>6.9</td>\n",
              "      <td>0.050</td>\n",
              "      <td>30.0</td>\n",
              "      <td>97.0</td>\n",
              "      <td>0.9951</td>\n",
              "      <td>3.26</td>\n",
              "      <td>0.44</td>\n",
              "      <td>10.1</td>\n",
              "      <td>6</td>\n",
              "    </tr>\n",
              "    <tr>\n",
              "      <th>3</th>\n",
              "      <td>7.2</td>\n",
              "      <td>0.23</td>\n",
              "      <td>0.32</td>\n",
              "      <td>8.5</td>\n",
              "      <td>0.058</td>\n",
              "      <td>47.0</td>\n",
              "      <td>186.0</td>\n",
              "      <td>0.9956</td>\n",
              "      <td>3.19</td>\n",
              "      <td>0.40</td>\n",
              "      <td>9.9</td>\n",
              "      <td>6</td>\n",
              "    </tr>\n",
              "    <tr>\n",
              "      <th>4</th>\n",
              "      <td>7.2</td>\n",
              "      <td>0.23</td>\n",
              "      <td>0.32</td>\n",
              "      <td>8.5</td>\n",
              "      <td>0.058</td>\n",
              "      <td>47.0</td>\n",
              "      <td>186.0</td>\n",
              "      <td>0.9956</td>\n",
              "      <td>3.19</td>\n",
              "      <td>0.40</td>\n",
              "      <td>9.9</td>\n",
              "      <td>6</td>\n",
              "    </tr>\n",
              "  </tbody>\n",
              "</table>\n",
              "</div>\n",
              "    <div class=\"colab-df-buttons\">\n",
              "\n",
              "  <div class=\"colab-df-container\">\n",
              "    <button class=\"colab-df-convert\" onclick=\"convertToInteractive('df-7ca0eeac-1f5d-4643-a9df-6c39a7b822c6')\"\n",
              "            title=\"Convert this dataframe to an interactive table.\"\n",
              "            style=\"display:none;\">\n",
              "\n",
              "  <svg xmlns=\"http://www.w3.org/2000/svg\" height=\"24px\" viewBox=\"0 -960 960 960\">\n",
              "    <path d=\"M120-120v-720h720v720H120Zm60-500h600v-160H180v160Zm220 220h160v-160H400v160Zm0 220h160v-160H400v160ZM180-400h160v-160H180v160Zm440 0h160v-160H620v160ZM180-180h160v-160H180v160Zm440 0h160v-160H620v160Z\"/>\n",
              "  </svg>\n",
              "    </button>\n",
              "\n",
              "  <style>\n",
              "    .colab-df-container {\n",
              "      display:flex;\n",
              "      gap: 12px;\n",
              "    }\n",
              "\n",
              "    .colab-df-convert {\n",
              "      background-color: #E8F0FE;\n",
              "      border: none;\n",
              "      border-radius: 50%;\n",
              "      cursor: pointer;\n",
              "      display: none;\n",
              "      fill: #1967D2;\n",
              "      height: 32px;\n",
              "      padding: 0 0 0 0;\n",
              "      width: 32px;\n",
              "    }\n",
              "\n",
              "    .colab-df-convert:hover {\n",
              "      background-color: #E2EBFA;\n",
              "      box-shadow: 0px 1px 2px rgba(60, 64, 67, 0.3), 0px 1px 3px 1px rgba(60, 64, 67, 0.15);\n",
              "      fill: #174EA6;\n",
              "    }\n",
              "\n",
              "    .colab-df-buttons div {\n",
              "      margin-bottom: 4px;\n",
              "    }\n",
              "\n",
              "    [theme=dark] .colab-df-convert {\n",
              "      background-color: #3B4455;\n",
              "      fill: #D2E3FC;\n",
              "    }\n",
              "\n",
              "    [theme=dark] .colab-df-convert:hover {\n",
              "      background-color: #434B5C;\n",
              "      box-shadow: 0px 1px 3px 1px rgba(0, 0, 0, 0.15);\n",
              "      filter: drop-shadow(0px 1px 2px rgba(0, 0, 0, 0.3));\n",
              "      fill: #FFFFFF;\n",
              "    }\n",
              "  </style>\n",
              "\n",
              "    <script>\n",
              "      const buttonEl =\n",
              "        document.querySelector('#df-7ca0eeac-1f5d-4643-a9df-6c39a7b822c6 button.colab-df-convert');\n",
              "      buttonEl.style.display =\n",
              "        google.colab.kernel.accessAllowed ? 'block' : 'none';\n",
              "\n",
              "      async function convertToInteractive(key) {\n",
              "        const element = document.querySelector('#df-7ca0eeac-1f5d-4643-a9df-6c39a7b822c6');\n",
              "        const dataTable =\n",
              "          await google.colab.kernel.invokeFunction('convertToInteractive',\n",
              "                                                    [key], {});\n",
              "        if (!dataTable) return;\n",
              "\n",
              "        const docLinkHtml = 'Like what you see? Visit the ' +\n",
              "          '<a target=\"_blank\" href=https://colab.research.google.com/notebooks/data_table.ipynb>data table notebook</a>'\n",
              "          + ' to learn more about interactive tables.';\n",
              "        element.innerHTML = '';\n",
              "        dataTable['output_type'] = 'display_data';\n",
              "        await google.colab.output.renderOutput(dataTable, element);\n",
              "        const docLink = document.createElement('div');\n",
              "        docLink.innerHTML = docLinkHtml;\n",
              "        element.appendChild(docLink);\n",
              "      }\n",
              "    </script>\n",
              "  </div>\n",
              "\n",
              "\n",
              "<div id=\"df-09e1e318-9534-4d8c-bdfa-1dcd6dbfc3a1\">\n",
              "  <button class=\"colab-df-quickchart\" onclick=\"quickchart('df-09e1e318-9534-4d8c-bdfa-1dcd6dbfc3a1')\"\n",
              "            title=\"Suggest charts\"\n",
              "            style=\"display:none;\">\n",
              "\n",
              "<svg xmlns=\"http://www.w3.org/2000/svg\" height=\"24px\"viewBox=\"0 0 24 24\"\n",
              "     width=\"24px\">\n",
              "    <g>\n",
              "        <path d=\"M19 3H5c-1.1 0-2 .9-2 2v14c0 1.1.9 2 2 2h14c1.1 0 2-.9 2-2V5c0-1.1-.9-2-2-2zM9 17H7v-7h2v7zm4 0h-2V7h2v10zm4 0h-2v-4h2v4z\"/>\n",
              "    </g>\n",
              "</svg>\n",
              "  </button>\n",
              "\n",
              "<style>\n",
              "  .colab-df-quickchart {\n",
              "      --bg-color: #E8F0FE;\n",
              "      --fill-color: #1967D2;\n",
              "      --hover-bg-color: #E2EBFA;\n",
              "      --hover-fill-color: #174EA6;\n",
              "      --disabled-fill-color: #AAA;\n",
              "      --disabled-bg-color: #DDD;\n",
              "  }\n",
              "\n",
              "  [theme=dark] .colab-df-quickchart {\n",
              "      --bg-color: #3B4455;\n",
              "      --fill-color: #D2E3FC;\n",
              "      --hover-bg-color: #434B5C;\n",
              "      --hover-fill-color: #FFFFFF;\n",
              "      --disabled-bg-color: #3B4455;\n",
              "      --disabled-fill-color: #666;\n",
              "  }\n",
              "\n",
              "  .colab-df-quickchart {\n",
              "    background-color: var(--bg-color);\n",
              "    border: none;\n",
              "    border-radius: 50%;\n",
              "    cursor: pointer;\n",
              "    display: none;\n",
              "    fill: var(--fill-color);\n",
              "    height: 32px;\n",
              "    padding: 0;\n",
              "    width: 32px;\n",
              "  }\n",
              "\n",
              "  .colab-df-quickchart:hover {\n",
              "    background-color: var(--hover-bg-color);\n",
              "    box-shadow: 0 1px 2px rgba(60, 64, 67, 0.3), 0 1px 3px 1px rgba(60, 64, 67, 0.15);\n",
              "    fill: var(--button-hover-fill-color);\n",
              "  }\n",
              "\n",
              "  .colab-df-quickchart-complete:disabled,\n",
              "  .colab-df-quickchart-complete:disabled:hover {\n",
              "    background-color: var(--disabled-bg-color);\n",
              "    fill: var(--disabled-fill-color);\n",
              "    box-shadow: none;\n",
              "  }\n",
              "\n",
              "  .colab-df-spinner {\n",
              "    border: 2px solid var(--fill-color);\n",
              "    border-color: transparent;\n",
              "    border-bottom-color: var(--fill-color);\n",
              "    animation:\n",
              "      spin 1s steps(1) infinite;\n",
              "  }\n",
              "\n",
              "  @keyframes spin {\n",
              "    0% {\n",
              "      border-color: transparent;\n",
              "      border-bottom-color: var(--fill-color);\n",
              "      border-left-color: var(--fill-color);\n",
              "    }\n",
              "    20% {\n",
              "      border-color: transparent;\n",
              "      border-left-color: var(--fill-color);\n",
              "      border-top-color: var(--fill-color);\n",
              "    }\n",
              "    30% {\n",
              "      border-color: transparent;\n",
              "      border-left-color: var(--fill-color);\n",
              "      border-top-color: var(--fill-color);\n",
              "      border-right-color: var(--fill-color);\n",
              "    }\n",
              "    40% {\n",
              "      border-color: transparent;\n",
              "      border-right-color: var(--fill-color);\n",
              "      border-top-color: var(--fill-color);\n",
              "    }\n",
              "    60% {\n",
              "      border-color: transparent;\n",
              "      border-right-color: var(--fill-color);\n",
              "    }\n",
              "    80% {\n",
              "      border-color: transparent;\n",
              "      border-right-color: var(--fill-color);\n",
              "      border-bottom-color: var(--fill-color);\n",
              "    }\n",
              "    90% {\n",
              "      border-color: transparent;\n",
              "      border-bottom-color: var(--fill-color);\n",
              "    }\n",
              "  }\n",
              "</style>\n",
              "\n",
              "  <script>\n",
              "    async function quickchart(key) {\n",
              "      const quickchartButtonEl =\n",
              "        document.querySelector('#' + key + ' button');\n",
              "      quickchartButtonEl.disabled = true;  // To prevent multiple clicks.\n",
              "      quickchartButtonEl.classList.add('colab-df-spinner');\n",
              "      try {\n",
              "        const charts = await google.colab.kernel.invokeFunction(\n",
              "            'suggestCharts', [key], {});\n",
              "      } catch (error) {\n",
              "        console.error('Error during call to suggestCharts:', error);\n",
              "      }\n",
              "      quickchartButtonEl.classList.remove('colab-df-spinner');\n",
              "      quickchartButtonEl.classList.add('colab-df-quickchart-complete');\n",
              "    }\n",
              "    (() => {\n",
              "      let quickchartButtonEl =\n",
              "        document.querySelector('#df-09e1e318-9534-4d8c-bdfa-1dcd6dbfc3a1 button');\n",
              "      quickchartButtonEl.style.display =\n",
              "        google.colab.kernel.accessAllowed ? 'block' : 'none';\n",
              "    })();\n",
              "  </script>\n",
              "</div>\n",
              "\n",
              "    </div>\n",
              "  </div>\n"
            ]
          },
          "metadata": {},
          "execution_count": 3
        }
      ]
    },
    {
      "cell_type": "code",
      "execution_count": null,
      "metadata": {
        "id": "YsNspSXzgdl0",
        "outputId": "fb1f81de-be7c-4942-bb9b-248d2c42f290"
      },
      "outputs": [
        {
          "data": {
            "text/plain": [
              "<torch._C.Generator at 0x7fb38e296150>"
            ]
          },
          "execution_count": 1,
          "metadata": {},
          "output_type": "execute_result"
        }
      ],
      "source": [
        "%matplotlib inline\n",
        "from matplotlib import pyplot as plt\n",
        "import numpy as np\n",
        "import torch\n",
        "\n",
        "torch.set_printoptions(edgeitems=2, linewidth=75)\n",
        "torch.manual_seed(123)"
      ]
    },
    {
      "cell_type": "code",
      "execution_count": null,
      "metadata": {
        "id": "-VFqTKHTgdl3",
        "outputId": "f93a711a-7e08-43a7-b760-93d9ab98d36f"
      },
      "outputs": [
        {
          "name": "stderr",
          "output_type": "stream",
          "text": [
            "/usr/local/lib/python3.7/dist-packages/torchvision/io/_video_opt.py:17: UserWarning: video reader based on ffmpeg c++ ops not available\n",
            "  warnings.warn(\"video reader based on ffmpeg c++ ops not available\")\n"
          ]
        },
        {
          "name": "stdout",
          "output_type": "stream",
          "text": [
            "Files already downloaded and verified\n",
            "Files already downloaded and verified\n"
          ]
        }
      ],
      "source": [
        "from torchvision import datasets\n",
        "data_path = '../data-unversioned/p1ch7/'\n",
        "cifar10 = datasets.CIFAR10(data_path, train=True, download=True) # <1>\n",
        "cifar10_val = datasets.CIFAR10(data_path, train=False, download=True) # <2>"
      ]
    },
    {
      "cell_type": "code",
      "execution_count": null,
      "metadata": {
        "id": "sMo5yILogdl4",
        "outputId": "5c0f3fd2-bf6c-4cd6-cfb3-163fc959243d"
      },
      "outputs": [
        {
          "data": {
            "image/png": "[encoded data removed]",
            "text/plain": [
              "<Figure size 576x216 with 10 Axes>"
            ]
          },
          "metadata": {},
          "output_type": "display_data"
        }
      ],
      "source": [
        "class_names = ['airplane','automobile','bird','cat','deer',\n",
        "               'dog','frog','horse','ship','truck']\n",
        "\n",
        "fig = plt.figure(figsize=(8,3))\n",
        "num_classes = 10\n",
        "for i in range(num_classes):\n",
        "    ax = fig.add_subplot(2, 5, 1 + i, xticks=[], yticks=[])\n",
        "    ax.set_title(class_names[i])\n",
        "    img = next(img for img, label in cifar10 if label == i)\n",
        "    plt.imshow(img)\n",
        "plt.show()"
      ]
    },
    {
      "cell_type": "code",
      "execution_count": null,
      "metadata": {
        "id": "upfehLZegdl4",
        "outputId": "a33d28f1-4bea-4ee8-eaf7-204e7189e71b"
      },
      "outputs": [
        {
          "data": {
            "text/plain": [
              "(torchvision.datasets.cifar.CIFAR10,\n",
              " torchvision.datasets.vision.VisionDataset,\n",
              " torch.utils.data.dataset.Dataset,\n",
              " object)"
            ]
          },
          "execution_count": 4,
          "metadata": {},
          "output_type": "execute_result"
        }
      ],
      "source": [
        "type(cifar10).__mro__"
      ]
    },
    {
      "cell_type": "code",
      "execution_count": null,
      "metadata": {
        "id": "b_ZDe8Y6gdl5",
        "outputId": "4100cf9a-140c-4f59-c63c-a7307bf4ce34"
      },
      "outputs": [
        {
          "data": {
            "text/plain": [
              "50000"
            ]
          },
          "execution_count": 5,
          "metadata": {},
          "output_type": "execute_result"
        }
      ],
      "source": [
        "len(cifar10)"
      ]
    },
    {
      "cell_type": "code",
      "execution_count": null,
      "metadata": {
        "id": "3UKGH4C_gdl5",
        "outputId": "eff50b34-8775-4d55-f13f-0a3b29f80688"
      },
      "outputs": [
        {
          "data": {
            "text/plain": [
              "(<PIL.Image.Image image mode=RGB size=32x32 at 0x7FB383657390>,\n",
              " 1,\n",
              " 'automobile')"
            ]
          },
          "execution_count": 6,
          "metadata": {},
          "output_type": "execute_result"
        }
      ],
      "source": [
        "img, label = cifar10[99]\n",
        "img, label, class_names[label]"
      ]
    },
    {
      "cell_type": "code",
      "execution_count": null,
      "metadata": {
        "id": "X-6Ja7qMgdl6",
        "outputId": "1d5d1e8c-48f1-420b-b56a-cdfdeb4219f0"
      },
      "outputs": [
        {
          "data": {
            "image/png": "[encoded data removed]",
            "text/plain": [
              "<Figure size 432x288 with 1 Axes>"
            ]
          },
          "metadata": {
            "needs_background": "light"
          },
          "output_type": "display_data"
        }
      ],
      "source": [
        "plt.imshow(img)\n",
        "plt.show()"
      ]
    },
    {
      "cell_type": "code",
      "execution_count": null,
      "metadata": {
        "id": "lprO3ve4gdl7",
        "outputId": "ef121234-8b1c-47da-b96c-d007b5168d84"
      },
      "outputs": [
        {
          "data": {
            "text/plain": [
              "['CenterCrop',\n",
              " 'CenterCropVideo',\n",
              " 'ColorJitter',\n",
              " 'Compose',\n",
              " 'FiveCrop',\n",
              " 'Grayscale',\n",
              " 'Lambda',\n",
              " 'LinearTransformation',\n",
              " 'Normalize',\n",
              " 'NormalizeVideo',\n",
              " 'Pad',\n",
              " 'RandomAffine',\n",
              " 'RandomApply',\n",
              " 'RandomChoice',\n",
              " 'RandomCrop',\n",
              " 'RandomCropVideo',\n",
              " 'RandomErasing',\n",
              " 'RandomGrayscale',\n",
              " 'RandomHorizontalFlip',\n",
              " 'RandomHorizontalFlipVideo',\n",
              " 'RandomOrder',\n",
              " 'RandomPerspective',\n",
              " 'RandomResizedCrop',\n",
              " 'RandomResizedCropVideo',\n",
              " 'RandomRotation',\n",
              " 'RandomSizedCrop',\n",
              " 'RandomVerticalFlip',\n",
              " 'Resize',\n",
              " 'Scale',\n",
              " 'TenCrop',\n",
              " 'ToPILImage',\n",
              " 'ToTensor',\n",
              " 'ToTensorVideo',\n",
              " '__builtins__',\n",
              " '__cached__',\n",
              " '__doc__',\n",
              " '__file__',\n",
              " '__loader__',\n",
              " '__name__',\n",
              " '__package__',\n",
              " '__path__',\n",
              " '__spec__',\n",
              " 'functional',\n",
              " 'functional_video',\n",
              " 'transforms',\n",
              " 'transforms_video']"
            ]
          },
          "execution_count": 8,
          "metadata": {},
          "output_type": "execute_result"
        }
      ],
      "source": [
        "from torchvision import transforms\n",
        "dir(transforms)"
      ]
    },
    {
      "cell_type": "code",
      "execution_count": null,
      "metadata": {
        "id": "NV4Mru31gdl7",
        "outputId": "25614b18-bca6-4d44-bd39-e569591a3247"
      },
      "outputs": [
        {
          "data": {
            "text/plain": [
              "torch.Size([3, 32, 32])"
            ]
          },
          "execution_count": 9,
          "metadata": {},
          "output_type": "execute_result"
        }
      ],
      "source": [
        "from torchvision import transforms\n",
        "\n",
        "to_tensor = transforms.ToTensor()\n",
        "img_t = to_tensor(img)\n",
        "img_t.shape"
      ]
    },
    {
      "cell_type": "markdown",
      "source": [
        "## 7.2 CIFAR10"
      ],
      "metadata": {
        "id": "NrWWdeCFgywJ"
      }
    },
    {
      "cell_type": "code",
      "execution_count": null,
      "metadata": {
        "id": "KwX2WHmlgdl8"
      },
      "outputs": [],
      "source": [
        "tensor_cifar10 = datasets.CIFAR10(data_path, train=True, download=False,\n",
        "                          transform=transforms.ToTensor())"
      ]
    },
    {
      "cell_type": "code",
      "execution_count": null,
      "metadata": {
        "id": "oonLwK4zgdl8",
        "outputId": "be848cdb-26eb-4f04-8d13-2e56428abe4a"
      },
      "outputs": [
        {
          "data": {
            "text/plain": [
              "torch.Tensor"
            ]
          },
          "execution_count": 11,
          "metadata": {},
          "output_type": "execute_result"
        }
      ],
      "source": [
        "img_t, _ = tensor_cifar10[99]\n",
        "type(img_t)"
      ]
    },
    {
      "cell_type": "code",
      "execution_count": null,
      "metadata": {
        "id": "eoYX9POBgdl9",
        "outputId": "2c0931ee-deb2-49ed-b157-baa674dc3eb1"
      },
      "outputs": [
        {
          "data": {
            "text/plain": [
              "(torch.Size([3, 32, 32]), torch.float32)"
            ]
          },
          "execution_count": 12,
          "metadata": {},
          "output_type": "execute_result"
        }
      ],
      "source": [
        "img_t.shape, img_t.dtype"
      ]
    },
    {
      "cell_type": "code",
      "execution_count": null,
      "metadata": {
        "id": "Q_x1Pkd7gdl9",
        "outputId": "f7e42126-198b-4cf3-a093-24275fd8c64a"
      },
      "outputs": [
        {
          "data": {
            "text/plain": [
              "(tensor(0.), tensor(1.))"
            ]
          },
          "execution_count": 13,
          "metadata": {},
          "output_type": "execute_result"
        }
      ],
      "source": [
        "img_t.min(), img_t.max()"
      ]
    },
    {
      "cell_type": "code",
      "execution_count": null,
      "metadata": {
        "scrolled": true,
        "id": "L9XRBvqngdl9",
        "outputId": "4910ee12-205a-49f3-8c22-efbf8da645ee"
      },
      "outputs": [
        {
          "data": {
            "image/png": "[encoded data removed]",
            "text/plain": [
              "<Figure size 432x288 with 1 Axes>"
            ]
          },
          "metadata": {
            "needs_background": "light"
          },
          "output_type": "display_data"
        }
      ],
      "source": [
        "plt.imshow(img_t.permute(1, 2, 0))  # <1>\n",
        "plt.show()"
      ]
    },
    {
      "cell_type": "code",
      "execution_count": null,
      "metadata": {
        "id": "ZgwuUoSKgdl-",
        "outputId": "fc30d3a0-47bc-4147-ad6a-3fd019406c61"
      },
      "outputs": [
        {
          "data": {
            "text/plain": [
              "torch.Size([3, 32, 32, 50000])"
            ]
          },
          "execution_count": 15,
          "metadata": {},
          "output_type": "execute_result"
        }
      ],
      "source": [
        "imgs = torch.stack([img_t for img_t, _ in tensor_cifar10], dim=3)\n",
        "imgs.shape"
      ]
    },
    {
      "cell_type": "code",
      "execution_count": null,
      "metadata": {
        "id": "LPdS8haHgdl-",
        "outputId": "9b0f60df-6ec0-49b6-fdbb-9a25611c06a5"
      },
      "outputs": [
        {
          "data": {
            "text/plain": [
              "tensor([0.4915, 0.4823, 0.4468])"
            ]
          },
          "execution_count": 16,
          "metadata": {},
          "output_type": "execute_result"
        }
      ],
      "source": [
        "imgs.view(3, -1).mean(dim=1)  # <1>"
      ]
    },
    {
      "cell_type": "code",
      "execution_count": null,
      "metadata": {
        "id": "h3zO4Hgvgdl-",
        "outputId": "890515f9-4197-49c2-9a70-5cb7c275782a"
      },
      "outputs": [
        {
          "data": {
            "text/plain": [
              "tensor([0.2470, 0.2435, 0.2616])"
            ]
          },
          "execution_count": 17,
          "metadata": {},
          "output_type": "execute_result"
        }
      ],
      "source": [
        "imgs.view(3, -1).std(dim=1)"
      ]
    },
    {
      "cell_type": "markdown",
      "source": [
        "## 7.3 Transformers"
      ],
      "metadata": {
        "id": "2BRtFZ8Mg2f5"
      }
    },
    {
      "cell_type": "code",
      "execution_count": null,
      "metadata": {
        "id": "cxiHqBGqgdl-",
        "outputId": "e738def1-2c1a-43f1-9881-6735596b34a4"
      },
      "outputs": [
        {
          "data": {
            "text/plain": [
              "Normalize(mean=(0.4915, 0.4823, 0.4468), std=(0.247, 0.2435, 0.2616))"
            ]
          },
          "execution_count": 18,
          "metadata": {},
          "output_type": "execute_result"
        }
      ],
      "source": [
        "transforms.Normalize((0.4915, 0.4823, 0.4468), (0.2470, 0.2435, 0.2616))"
      ]
    },
    {
      "cell_type": "code",
      "execution_count": null,
      "metadata": {
        "id": "6H0z4_xQgdl_"
      },
      "outputs": [],
      "source": [
        "transformed_cifar10 = datasets.CIFAR10(\n",
        "    data_path, train=True, download=False,\n",
        "    transform=transforms.Compose([\n",
        "        transforms.ToTensor(),\n",
        "        transforms.Normalize((0.4915, 0.4823, 0.4468),\n",
        "                             (0.2470, 0.2435, 0.2616))\n",
        "    ]))"
      ]
    },
    {
      "cell_type": "code",
      "execution_count": null,
      "metadata": {
        "id": "dDdzc-VNgdl_"
      },
      "outputs": [],
      "source": [
        "transformed_cifar10_val = datasets.CIFAR10(\n",
        "    data_path, train=False, download=False,\n",
        "    transform=transforms.Compose([\n",
        "        transforms.ToTensor(),\n",
        "        transforms.Normalize((0.4915, 0.4823, 0.4468),\n",
        "                             (0.2470, 0.2435, 0.2616))\n",
        "    ]))"
      ]
    },
    {
      "cell_type": "code",
      "execution_count": null,
      "metadata": {
        "id": "NQEvMIIvgdl_",
        "outputId": "14be054e-e29d-4a1d-9a8e-d4fbe3cc8645"
      },
      "outputs": [
        {
          "name": "stderr",
          "output_type": "stream",
          "text": [
            "Clipping input data to the valid range for imshow with RGB data ([0..1] for floats or [0..255] for integers).\n"
          ]
        },
        {
          "data": {
            "image/png": "[encoded data removed]",
            "text/plain": [
              "<Figure size 432x288 with 1 Axes>"
            ]
          },
          "metadata": {
            "needs_background": "light"
          },
          "output_type": "display_data"
        }
      ],
      "source": [
        "img_t, _ = transformed_cifar10[99]\n",
        "\n",
        "plt.imshow(img_t.permute(1, 2, 0))\n",
        "plt.show()"
      ]
    },
    {
      "cell_type": "markdown",
      "source": [
        "## 7.4 Birds and Airplanes"
      ],
      "metadata": {
        "id": "2hnNnNuNg64a"
      }
    },
    {
      "cell_type": "code",
      "source": [],
      "metadata": {
        "id": "mj8Uqnsfg-7G"
      },
      "execution_count": null,
      "outputs": []
    },
    {
      "cell_type": "code",
      "execution_count": null,
      "metadata": {
        "id": "0R0XJ8GOgk9T",
        "outputId": "0dc82368-324b-48a2-b2e8-8d5dfaed3a3e"
      },
      "outputs": [
        {
          "data": {
            "text/plain": [
              "<torch._C.Generator at 0x1deb1a39110>"
            ]
          },
          "execution_count": 1,
          "metadata": {},
          "output_type": "execute_result"
        }
      ],
      "source": [
        "%matplotlib inline\n",
        "from matplotlib import pyplot as plt\n",
        "import numpy as np\n",
        "import torch\n",
        "\n",
        "torch.set_printoptions(edgeitems=2)\n",
        "torch.manual_seed(123)"
      ]
    },
    {
      "cell_type": "code",
      "execution_count": null,
      "metadata": {
        "id": "20Gq25uqgk9V"
      },
      "outputs": [],
      "source": [
        "class_names = ['airplane','automobile','bird','cat','deer',\n",
        "               'dog','frog','horse','ship','truck']"
      ]
    },
    {
      "cell_type": "code",
      "execution_count": null,
      "metadata": {
        "id": "lx0g7XPfgk9W"
      },
      "outputs": [],
      "source": [
        "from torchvision import datasets, transforms\n",
        "data_path = '../data-unversioned/p1ch7/'\n",
        "cifar10 = datasets.CIFAR10(\n",
        "    data_path, train=True, download=False,\n",
        "    transform=transforms.Compose([\n",
        "        transforms.ToTensor(),\n",
        "        transforms.Normalize((0.4915, 0.4823, 0.4468),\n",
        "                             (0.2470, 0.2435, 0.2616))\n",
        "    ]))"
      ]
    },
    {
      "cell_type": "code",
      "execution_count": null,
      "metadata": {
        "id": "tdk27uiWgk9X"
      },
      "outputs": [],
      "source": [
        "cifar10_val = datasets.CIFAR10(\n",
        "    data_path, train=False, download=False,\n",
        "    transform=transforms.Compose([\n",
        "        transforms.ToTensor(),\n",
        "        transforms.Normalize((0.4915, 0.4823, 0.4468),\n",
        "                             (0.2470, 0.2435, 0.2616))\n",
        "    ]))"
      ]
    },
    {
      "cell_type": "code",
      "execution_count": null,
      "metadata": {
        "id": "uV_m8qhigk9X"
      },
      "outputs": [],
      "source": [
        "label_map = {0: 0, 2: 1}\n",
        "class_names = ['airplane', 'bird']\n",
        "cifar2 = [(img, label_map[label])\n",
        "          for img, label in cifar10\n",
        "          if label in [0, 2]]\n",
        "cifar2_val = [(img, label_map[label])\n",
        "              for img, label in cifar10_val\n",
        "              if label in [0, 2]]"
      ]
    },
    {
      "cell_type": "code",
      "execution_count": null,
      "metadata": {
        "id": "usXYucBlgk9Y"
      },
      "outputs": [],
      "source": [
        "import torch.nn as nn\n",
        "\n",
        "n_out = 2\n",
        "\n",
        "model = nn.Sequential(\n",
        "            nn.Linear(\n",
        "                3072,  # <1>\n",
        "                512,   # <2>\n",
        "            ),\n",
        "            nn.Tanh(),\n",
        "            nn.Linear(\n",
        "                512,   # <2>\n",
        "                n_out, # <3>\n",
        "            )\n",
        "        )"
      ]
    },
    {
      "cell_type": "code",
      "execution_count": null,
      "metadata": {
        "id": "fs-kMGZ9gk9Y"
      },
      "outputs": [],
      "source": [
        "def softmax(x):\n",
        "    return torch.exp(x) / torch.exp(x).sum()"
      ]
    },
    {
      "cell_type": "code",
      "execution_count": null,
      "metadata": {
        "id": "p7jNHkH2gk9Z",
        "outputId": "0973a322-fa1c-40c2-8198-ef9e52eafbee"
      },
      "outputs": [
        {
          "data": {
            "text/plain": [
              "tensor([0.0900, 0.2447, 0.6652])"
            ]
          },
          "execution_count": 8,
          "metadata": {},
          "output_type": "execute_result"
        }
      ],
      "source": [
        "x = torch.tensor([1.0, 2.0, 3.0])\n",
        "\n",
        "softmax(x)"
      ]
    },
    {
      "cell_type": "code",
      "execution_count": null,
      "metadata": {
        "id": "IsUDuGHwgk9Z",
        "outputId": "95c2d66a-011c-46a1-f05a-5b746c09d0f9"
      },
      "outputs": [
        {
          "data": {
            "text/plain": [
              "tensor(1.)"
            ]
          },
          "execution_count": 9,
          "metadata": {},
          "output_type": "execute_result"
        }
      ],
      "source": [
        "softmax(x).sum()"
      ]
    },
    {
      "cell_type": "code",
      "execution_count": null,
      "metadata": {
        "id": "5krJZSMOgk9a",
        "outputId": "03f4062e-1395-4aa4-b547-489507083ec8"
      },
      "outputs": [
        {
          "data": {
            "text/plain": [
              "tensor([[0.0900, 0.2447, 0.6652],\n",
              "        [0.0900, 0.2447, 0.6652]])"
            ]
          },
          "execution_count": 10,
          "metadata": {},
          "output_type": "execute_result"
        }
      ],
      "source": [
        "softmax = nn.Softmax(dim=1)\n",
        "\n",
        "x = torch.tensor([[1.0, 2.0, 3.0],\n",
        "                  [1.0, 2.0, 3.0]])\n",
        "\n",
        "softmax(x)"
      ]
    },
    {
      "cell_type": "code",
      "execution_count": null,
      "metadata": {
        "id": "vvX5kuCogk9a"
      },
      "outputs": [],
      "source": [
        "model = nn.Sequential(\n",
        "            nn.Linear(3072, 512),\n",
        "            nn.Tanh(),\n",
        "            nn.Linear(512, 2),\n",
        "            nn.Softmax(dim=1))"
      ]
    },
    {
      "cell_type": "code",
      "execution_count": null,
      "metadata": {
        "id": "L5FGZNcMgk9b",
        "outputId": "05cf4414-14c6-48ea-c255-17abef4cb554"
      },
      "outputs": [
        {
          "name": "stderr",
          "output_type": "stream",
          "text": [
            "Clipping input data to the valid range for imshow with RGB data ([0..1] for floats or [0..255] for integers).\n"
          ]
        },
        {
          "data": {
            "image/png": "[encoded data removed]",
            "text/plain": [
              "<Figure size 432x288 with 1 Axes>"
            ]
          },
          "metadata": {
            "needs_background": "light"
          },
          "output_type": "display_data"
        }
      ],
      "source": [
        "img, _ = cifar2[0]\n",
        "\n",
        "plt.imshow(img.permute(1, 2, 0))\n",
        "plt.show()"
      ]
    },
    {
      "cell_type": "code",
      "execution_count": null,
      "metadata": {
        "id": "yFa7af6Jgk9c"
      },
      "outputs": [],
      "source": [
        "img_batch = img.view(-1).unsqueeze(0)"
      ]
    },
    {
      "cell_type": "code",
      "execution_count": null,
      "metadata": {
        "id": "ItxIYv-jgk9e",
        "outputId": "edc9493f-993c-46c9-827a-49b8553fdb24"
      },
      "outputs": [
        {
          "data": {
            "text/plain": [
              "tensor([[0.4784, 0.5216]], grad_fn=<SoftmaxBackward>)"
            ]
          },
          "execution_count": 14,
          "metadata": {},
          "output_type": "execute_result"
        }
      ],
      "source": [
        "out = model(img_batch)\n",
        "out"
      ]
    },
    {
      "cell_type": "code",
      "execution_count": null,
      "metadata": {
        "id": "ssUwbidWgk9e",
        "outputId": "f24edf56-678e-458c-c04e-a7c75277d753"
      },
      "outputs": [
        {
          "data": {
            "text/plain": [
              "tensor([1])"
            ]
          },
          "execution_count": 15,
          "metadata": {},
          "output_type": "execute_result"
        }
      ],
      "source": [
        "_, index = torch.max(out, dim=1)\n",
        "\n",
        "index"
      ]
    },
    {
      "cell_type": "code",
      "execution_count": null,
      "metadata": {
        "id": "d7YHQKFPgk9f",
        "outputId": "adf74b2b-8695-4c06-c402-ed3e0ce0814b"
      },
      "outputs": [
        {
          "data": {
            "text/plain": [
              "tensor([[1., 0.],\n",
              "        [1., 0.],\n",
              "        [0., 1.],\n",
              "        [0., 1.]])"
            ]
          },
          "execution_count": 16,
          "metadata": {},
          "output_type": "execute_result"
        }
      ],
      "source": [
        "out = torch.tensor([\n",
        "    [0.6, 0.4],\n",
        "    [0.9, 0.1],\n",
        "    [0.3, 0.7],\n",
        "    [0.2, 0.8],\n",
        "])\n",
        "class_index = torch.tensor([0, 0, 1, 1]).unsqueeze(1)\n",
        "\n",
        "truth = torch.zeros((4,2))\n",
        "truth.scatter_(dim=1, index=class_index, value=1.0)\n",
        "truth"
      ]
    },
    {
      "cell_type": "code",
      "execution_count": null,
      "metadata": {
        "id": "M7eJsTVVgk9f",
        "outputId": "746f96b3-ee15-48c6-8a56-c8d75fb45f4d"
      },
      "outputs": [
        {
          "data": {
            "text/plain": [
              "tensor(0.1500)"
            ]
          },
          "execution_count": 17,
          "metadata": {},
          "output_type": "execute_result"
        }
      ],
      "source": [
        "def mse(out):\n",
        "    return ((out - truth) ** 2).sum(dim=1).mean()\n",
        "mse(out)"
      ]
    },
    {
      "cell_type": "code",
      "execution_count": null,
      "metadata": {
        "id": "tOSCITKVgk9f",
        "outputId": "46166ee8-35b1-47bc-cc2b-b2de1ee52fc7"
      },
      "outputs": [
        {
          "data": {
            "text/plain": [
              "tensor([[0.6000],\n",
              "        [0.9000],\n",
              "        [0.7000],\n",
              "        [0.8000]])"
            ]
          },
          "execution_count": 18,
          "metadata": {},
          "output_type": "execute_result"
        }
      ],
      "source": [
        "out.gather(dim=1, index=class_index)"
      ]
    },
    {
      "cell_type": "code",
      "execution_count": null,
      "metadata": {
        "id": "CQ_fky4Dgk9g",
        "outputId": "f594e2aa-0deb-4a49-a7fd-c8775ab1bec8"
      },
      "outputs": [
        {
          "data": {
            "text/plain": [
              "tensor([0.3024])"
            ]
          },
          "execution_count": 19,
          "metadata": {},
          "output_type": "execute_result"
        }
      ],
      "source": [
        "def likelihood(out):\n",
        "    prod = 1.0\n",
        "    for x in out.gather(dim=1, index=class_index):\n",
        "        prod *= x\n",
        "    return prod\n",
        "\n",
        "likelihood(out)"
      ]
    },
    {
      "cell_type": "code",
      "execution_count": null,
      "metadata": {
        "id": "MQtqRHNzgk9g",
        "outputId": "5d663d01-016e-4a32-e337-0e9da01f369a"
      },
      "outputs": [
        {
          "data": {
            "text/plain": [
              "tensor([1.1960])"
            ]
          },
          "execution_count": 20,
          "metadata": {},
          "output_type": "execute_result"
        }
      ],
      "source": [
        "def neg_log_likelihood(out):\n",
        "    return -likelihood(out).log()\n",
        "\n",
        "neg_log_likelihood(out)"
      ]
    },
    {
      "cell_type": "code",
      "execution_count": null,
      "metadata": {
        "id": "Cqbesedlgk9g",
        "outputId": "2928398e-d6ee-40cc-dfa1-4aeed1c2e250"
      },
      "outputs": [
        {
          "data": {
            "text/plain": [
              "tensor([0.0750, 0.1500, 0.2500, 0.4750])"
            ]
          },
          "execution_count": 21,
          "metadata": {},
          "output_type": "execute_result"
        }
      ],
      "source": [
        "out0 = out.clone().detach()\n",
        "out0[0] = torch.tensor([0.9, 0.1]) # more right\n",
        "\n",
        "out2 = out.clone().detach()\n",
        "out2[0] = torch.tensor([0.4, 0.6]) # slightly wrong\n",
        "\n",
        "out3 = out.clone().detach()\n",
        "out3[0] = torch.tensor([0.1, 0.9]) # very wrong\n",
        "\n",
        "mse_comparison = torch.tensor([mse(o) for o in [out0, out, out2, out3]])\n",
        "mse_comparison"
      ]
    },
    {
      "cell_type": "code",
      "execution_count": null,
      "metadata": {
        "id": "A3qST4yAgk9g",
        "outputId": "171904df-40d6-4d74-d975-a4b14eec925d"
      },
      "outputs": [
        {
          "data": {
            "text/plain": [
              "tensor([-50.0000,   0.0000,  66.6667, 216.6667])"
            ]
          },
          "execution_count": 22,
          "metadata": {},
          "output_type": "execute_result"
        }
      ],
      "source": [
        "((mse_comparison / mse_comparison[1]) - 1) * 100"
      ]
    },
    {
      "cell_type": "code",
      "execution_count": null,
      "metadata": {
        "id": "LMmBv6fJgk9g",
        "outputId": "530891ab-462d-449c-cefc-64991cf0f60c"
      },
      "outputs": [
        {
          "data": {
            "text/plain": [
              "tensor([0.7905, 1.1960, 1.6015, 2.9878])"
            ]
          },
          "execution_count": 23,
          "metadata": {},
          "output_type": "execute_result"
        }
      ],
      "source": [
        "nll_comparison = torch.tensor([neg_log_likelihood(o)\n",
        "                               for o in [out0, out, out2, out3]])\n",
        "nll_comparison"
      ]
    },
    {
      "cell_type": "code",
      "execution_count": null,
      "metadata": {
        "id": "bh3QquK-gk9h",
        "outputId": "7a9b9857-db4a-4ff0-e4ec-1ce222e438c8"
      },
      "outputs": [
        {
          "data": {
            "text/plain": [
              "tensor([-33.9016,   0.0000,  33.9016, 149.8121])"
            ]
          },
          "execution_count": 24,
          "metadata": {},
          "output_type": "execute_result"
        }
      ],
      "source": [
        "((nll_comparison / nll_comparison[1]) - 1) * 100"
      ]
    },
    {
      "cell_type": "code",
      "execution_count": null,
      "metadata": {
        "id": "GCaRbHU2gk9h",
        "outputId": "8bb9fe4c-ad65-42d0-99e9-4993daaaeac1"
      },
      "outputs": [
        {
          "data": {
            "text/plain": [
              "tensor([[0., 1.]])"
            ]
          },
          "execution_count": 25,
          "metadata": {},
          "output_type": "execute_result"
        }
      ],
      "source": [
        "softmax = nn.Softmax(dim=1)\n",
        "\n",
        "log_softmax = nn.LogSoftmax(dim=1)\n",
        "\n",
        "x = torch.tensor([[0.0, 104.0]])\n",
        "\n",
        "softmax(x)"
      ]
    },
    {
      "cell_type": "code",
      "execution_count": null,
      "metadata": {
        "id": "nre1RC3Mgk9h",
        "outputId": "49a0106d-f88e-4964-8aa1-654fda1f734e"
      },
      "outputs": [
        {
          "data": {
            "text/plain": [
              "tensor([[0., 1.]])"
            ]
          },
          "execution_count": 26,
          "metadata": {},
          "output_type": "execute_result"
        }
      ],
      "source": [
        "softmax = nn.Softmax(dim=1)\n",
        "\n",
        "log_softmax = nn.LogSoftmax(dim=1)\n",
        "\n",
        "x = torch.tensor([[0.0, 104.0]])\n",
        "\n",
        "softmax(x)"
      ]
    },
    {
      "cell_type": "code",
      "execution_count": null,
      "metadata": {
        "id": "ZYyREjgRgk9h",
        "outputId": "07be1e20-b4c7-4ace-b64e-2aedbc4b3cb5"
      },
      "outputs": [
        {
          "data": {
            "text/plain": [
              "tensor([[-inf, 0.]])"
            ]
          },
          "execution_count": 27,
          "metadata": {},
          "output_type": "execute_result"
        }
      ],
      "source": [
        "torch.log(softmax(x))"
      ]
    },
    {
      "cell_type": "code",
      "execution_count": null,
      "metadata": {
        "id": "xZqnFhWZgk9i",
        "outputId": "e753f802-a38b-4316-f7ba-64c74a3d4566"
      },
      "outputs": [
        {
          "data": {
            "text/plain": [
              "tensor([[-104.,    0.]])"
            ]
          },
          "execution_count": 28,
          "metadata": {},
          "output_type": "execute_result"
        }
      ],
      "source": [
        "log_softmax(x)"
      ]
    },
    {
      "cell_type": "code",
      "execution_count": null,
      "metadata": {
        "id": "iLuhpP9Jgk9i",
        "outputId": "a7e76944-2686-4cbd-eb3b-bf8dee867c55"
      },
      "outputs": [
        {
          "data": {
            "text/plain": [
              "tensor([[0., 1.]])"
            ]
          },
          "execution_count": 29,
          "metadata": {},
          "output_type": "execute_result"
        }
      ],
      "source": [
        "torch.exp(log_softmax(x))"
      ]
    },
    {
      "cell_type": "code",
      "execution_count": null,
      "metadata": {
        "id": "4xxiVJjSgk9i"
      },
      "outputs": [],
      "source": [
        "model = nn.Sequential(\n",
        "            nn.Linear(3072, 512),\n",
        "            nn.Tanh(),\n",
        "            nn.Linear(512, 2),\n",
        "            nn.LogSoftmax(dim=1))"
      ]
    },
    {
      "cell_type": "code",
      "execution_count": null,
      "metadata": {
        "id": "7Yt0npc-gk9i"
      },
      "outputs": [],
      "source": [
        "loss = nn.NLLLoss()"
      ]
    },
    {
      "cell_type": "code",
      "execution_count": null,
      "metadata": {
        "id": "1lnfABKYgk9j",
        "outputId": "4b36a65e-44b9-4986-b9ff-be52cb9f233d"
      },
      "outputs": [
        {
          "data": {
            "text/plain": [
              "tensor(0.5077, grad_fn=<NllLossBackward>)"
            ]
          },
          "execution_count": 32,
          "metadata": {},
          "output_type": "execute_result"
        }
      ],
      "source": [
        "img, label = cifar2[0]\n",
        "\n",
        "out = model(img.view(-1).unsqueeze(0))\n",
        "\n",
        "loss(out, torch.tensor([label]))"
      ]
    },
    {
      "cell_type": "code",
      "execution_count": null,
      "metadata": {
        "id": "vBzCYuLAgk9j",
        "outputId": "885feeb3-cd9e-4cc8-ee33-f0654892605c"
      },
      "outputs": [
        {
          "name": "stdout",
          "output_type": "stream",
          "text": [
            "Epoch: 0, Loss: 5.347057\n",
            "Epoch: 1, Loss: 7.705317\n",
            "Epoch: 2, Loss: 6.510838\n",
            "Epoch: 3, Loss: 9.557189\n",
            "Epoch: 4, Loss: 4.151933\n",
            "Epoch: 5, Loss: 5.636873\n",
            "Epoch: 6, Loss: 6.531207\n",
            "Epoch: 7, Loss: 20.450516\n",
            "Epoch: 8, Loss: 5.072948\n",
            "Epoch: 9, Loss: 4.941860\n",
            "Epoch: 10, Loss: 6.445535\n",
            "Epoch: 11, Loss: 4.580799\n",
            "Epoch: 12, Loss: 6.660308\n",
            "Epoch: 13, Loss: 9.436373\n",
            "Epoch: 14, Loss: 16.786476\n",
            "Epoch: 15, Loss: 8.349138\n",
            "Epoch: 16, Loss: 8.176860\n",
            "Epoch: 17, Loss: 5.862664\n",
            "Epoch: 18, Loss: 8.218906\n",
            "Epoch: 19, Loss: 13.296558\n",
            "Epoch: 20, Loss: 7.313433\n",
            "Epoch: 21, Loss: 4.585245\n",
            "Epoch: 22, Loss: 11.706884\n",
            "Epoch: 23, Loss: 18.208710\n",
            "Epoch: 24, Loss: 0.343157\n",
            "Epoch: 25, Loss: 9.255491\n",
            "Epoch: 26, Loss: 10.466807\n",
            "Epoch: 27, Loss: 12.226366\n",
            "Epoch: 28, Loss: 12.728527\n",
            "Epoch: 29, Loss: 9.777843\n",
            "Epoch: 30, Loss: 6.128856\n",
            "Epoch: 31, Loss: 13.284330\n",
            "Epoch: 32, Loss: 10.321814\n",
            "Epoch: 33, Loss: 2.928349\n",
            "Epoch: 34, Loss: 8.623670\n",
            "Epoch: 35, Loss: 12.719531\n",
            "Epoch: 36, Loss: 4.030444\n",
            "Epoch: 37, Loss: 4.621825\n",
            "Epoch: 38, Loss: 13.210777\n",
            "Epoch: 39, Loss: 14.217413\n",
            "Epoch: 40, Loss: 3.880259\n",
            "Epoch: 41, Loss: 13.189833\n",
            "Epoch: 42, Loss: 17.787762\n",
            "Epoch: 43, Loss: 3.953930\n",
            "Epoch: 44, Loss: 0.640078\n",
            "Epoch: 45, Loss: 9.262226\n",
            "Epoch: 46, Loss: 7.383645\n",
            "Epoch: 47, Loss: 5.352252\n",
            "Epoch: 48, Loss: 11.515299\n",
            "Epoch: 49, Loss: 12.266010\n",
            "Epoch: 50, Loss: 12.210896\n",
            "Epoch: 51, Loss: 3.987965\n",
            "Epoch: 52, Loss: 12.570765\n",
            "Epoch: 53, Loss: 13.025002\n",
            "Epoch: 54, Loss: 13.747946\n",
            "Epoch: 55, Loss: 6.783926\n",
            "Epoch: 56, Loss: 11.822943\n",
            "Epoch: 57, Loss: 8.200066\n",
            "Epoch: 58, Loss: 9.206728\n",
            "Epoch: 59, Loss: 7.715425\n",
            "Epoch: 60, Loss: 5.571069\n",
            "Epoch: 61, Loss: 13.017315\n",
            "Epoch: 62, Loss: 10.307802\n",
            "Epoch: 63, Loss: 2.660404\n",
            "Epoch: 64, Loss: 11.096642\n",
            "Epoch: 65, Loss: 5.284830\n",
            "Epoch: 66, Loss: 8.374750\n",
            "Epoch: 67, Loss: 1.418676\n",
            "Epoch: 68, Loss: 9.891462\n",
            "Epoch: 69, Loss: 9.079073\n",
            "Epoch: 70, Loss: 6.453581\n",
            "Epoch: 71, Loss: 8.293860\n",
            "Epoch: 72, Loss: 4.585221\n",
            "Epoch: 73, Loss: 14.174129\n",
            "Epoch: 74, Loss: 6.072280\n",
            "Epoch: 75, Loss: 5.925417\n",
            "Epoch: 76, Loss: 0.260600\n",
            "Epoch: 77, Loss: 3.055498\n",
            "Epoch: 78, Loss: 0.347163\n",
            "Epoch: 79, Loss: 3.497080\n",
            "Epoch: 80, Loss: 6.615281\n",
            "Epoch: 81, Loss: 8.944511\n",
            "Epoch: 82, Loss: 10.230938\n",
            "Epoch: 83, Loss: 6.776264\n",
            "Epoch: 84, Loss: 10.169885\n",
            "Epoch: 85, Loss: 7.014330\n",
            "Epoch: 86, Loss: 3.467798\n",
            "Epoch: 87, Loss: 3.772486\n",
            "Epoch: 88, Loss: 13.495383\n",
            "Epoch: 89, Loss: 11.781836\n",
            "Epoch: 90, Loss: 6.853724\n",
            "Epoch: 91, Loss: 3.313806\n",
            "Epoch: 92, Loss: 7.867707\n",
            "Epoch: 93, Loss: 16.117371\n",
            "Epoch: 94, Loss: 15.077475\n",
            "Epoch: 95, Loss: 17.807060\n",
            "Epoch: 96, Loss: 16.376089\n",
            "Epoch: 97, Loss: 9.348265\n",
            "Epoch: 98, Loss: 18.044790\n",
            "Epoch: 99, Loss: 15.565783\n"
          ]
        }
      ],
      "source": [
        "import torch\n",
        "import torch.nn as nn\n",
        "import torch.optim as optim\n",
        "\n",
        "model = nn.Sequential(\n",
        "            nn.Linear(3072, 512),\n",
        "            nn.Tanh(),\n",
        "            nn.Linear(512, 2),\n",
        "            nn.LogSoftmax(dim=1))\n",
        "\n",
        "learning_rate = 1e-2\n",
        "\n",
        "optimizer = optim.SGD(model.parameters(), lr=learning_rate)\n",
        "\n",
        "loss_fn = nn.NLLLoss()\n",
        "\n",
        "n_epochs = 100\n",
        "\n",
        "for epoch in range(n_epochs):\n",
        "    for img, label in cifar2:\n",
        "        out = model(img.view(-1).unsqueeze(0))\n",
        "        loss = loss_fn(out, torch.tensor([label]))\n",
        "\n",
        "        optimizer.zero_grad()\n",
        "        loss.backward()\n",
        "        optimizer.step()\n",
        "\n",
        "    print(\"Epoch: %d, Loss: %f\" % (epoch, float(loss)))"
      ]
    },
    {
      "cell_type": "code",
      "execution_count": null,
      "metadata": {
        "id": "48vnGxQOgk9j"
      },
      "outputs": [],
      "source": [
        "train_loader = torch.utils.data.DataLoader(cifar2, batch_size=64,\n",
        "                                           shuffle=True)"
      ]
    },
    {
      "cell_type": "code",
      "execution_count": null,
      "metadata": {
        "id": "OF_QATuhgk9k",
        "outputId": "7204bbe2-dc85-45be-9b77-aa04941de181"
      },
      "outputs": [
        {
          "name": "stdout",
          "output_type": "stream",
          "text": [
            "Epoch: 0, Loss: 0.604063\n",
            "Epoch: 1, Loss: 0.597974\n",
            "Epoch: 2, Loss: 0.271415\n",
            "Epoch: 3, Loss: 0.451056\n",
            "Epoch: 4, Loss: 0.629758\n",
            "Epoch: 5, Loss: 0.458762\n",
            "Epoch: 6, Loss: 0.277813\n",
            "Epoch: 7, Loss: 0.406921\n",
            "Epoch: 8, Loss: 0.951961\n",
            "Epoch: 9, Loss: 0.433738\n",
            "Epoch: 10, Loss: 0.351960\n",
            "Epoch: 11, Loss: 0.355687\n",
            "Epoch: 12, Loss: 0.518611\n",
            "Epoch: 13, Loss: 0.262623\n",
            "Epoch: 14, Loss: 0.221969\n",
            "Epoch: 15, Loss: 0.774132\n",
            "Epoch: 16, Loss: 0.324406\n",
            "Epoch: 17, Loss: 0.447701\n",
            "Epoch: 18, Loss: 0.299780\n",
            "Epoch: 19, Loss: 0.267090\n",
            "Epoch: 20, Loss: 0.279828\n",
            "Epoch: 21, Loss: 0.197123\n",
            "Epoch: 22, Loss: 0.196783\n",
            "Epoch: 23, Loss: 0.328715\n",
            "Epoch: 24, Loss: 0.334952\n",
            "Epoch: 25, Loss: 0.500689\n",
            "Epoch: 26, Loss: 0.186956\n",
            "Epoch: 27, Loss: 0.138649\n",
            "Epoch: 28, Loss: 0.239988\n",
            "Epoch: 29, Loss: 0.495020\n",
            "Epoch: 30, Loss: 0.251347\n",
            "Epoch: 31, Loss: 0.088298\n",
            "Epoch: 32, Loss: 0.175127\n",
            "Epoch: 33, Loss: 0.208338\n",
            "Epoch: 34, Loss: 0.145656\n",
            "Epoch: 35, Loss: 0.129570\n",
            "Epoch: 36, Loss: 0.200110\n",
            "Epoch: 37, Loss: 0.133076\n",
            "Epoch: 38, Loss: 0.230561\n",
            "Epoch: 39, Loss: 0.241688\n",
            "Epoch: 40, Loss: 0.106870\n",
            "Epoch: 41, Loss: 0.281168\n",
            "Epoch: 42, Loss: 0.175034\n",
            "Epoch: 43, Loss: 0.073779\n",
            "Epoch: 44, Loss: 0.171294\n",
            "Epoch: 45, Loss: 0.112456\n",
            "Epoch: 46, Loss: 0.132553\n",
            "Epoch: 47, Loss: 0.048826\n",
            "Epoch: 48, Loss: 0.076014\n",
            "Epoch: 49, Loss: 0.122317\n",
            "Epoch: 50, Loss: 0.103442\n",
            "Epoch: 51, Loss: 0.201585\n",
            "Epoch: 52, Loss: 0.145637\n",
            "Epoch: 53, Loss: 0.055844\n",
            "Epoch: 54, Loss: 0.046278\n",
            "Epoch: 55, Loss: 0.081562\n",
            "Epoch: 56, Loss: 0.058857\n",
            "Epoch: 57, Loss: 0.197200\n",
            "Epoch: 58, Loss: 0.044184\n",
            "Epoch: 59, Loss: 0.043374\n",
            "Epoch: 60, Loss: 0.032936\n",
            "Epoch: 61, Loss: 0.072488\n",
            "Epoch: 62, Loss: 0.060811\n",
            "Epoch: 63, Loss: 0.029262\n",
            "Epoch: 64, Loss: 0.036435\n",
            "Epoch: 65, Loss: 0.058120\n",
            "Epoch: 66, Loss: 0.063329\n",
            "Epoch: 67, Loss: 0.020670\n",
            "Epoch: 68, Loss: 0.077189\n",
            "Epoch: 69, Loss: 0.060933\n",
            "Epoch: 70, Loss: 0.070848\n",
            "Epoch: 71, Loss: 0.036434\n",
            "Epoch: 72, Loss: 0.084855\n",
            "Epoch: 73, Loss: 0.044776\n",
            "Epoch: 74, Loss: 0.037828\n",
            "Epoch: 75, Loss: 0.024554\n",
            "Epoch: 76, Loss: 0.018965\n",
            "Epoch: 77, Loss: 0.033381\n",
            "Epoch: 78, Loss: 0.016183\n",
            "Epoch: 79, Loss: 0.020083\n",
            "Epoch: 80, Loss: 0.041192\n",
            "Epoch: 81, Loss: 0.015122\n",
            "Epoch: 82, Loss: 0.014245\n",
            "Epoch: 83, Loss: 0.018538\n",
            "Epoch: 84, Loss: 0.044791\n",
            "Epoch: 85, Loss: 0.034532\n",
            "Epoch: 86, Loss: 0.010175\n",
            "Epoch: 87, Loss: 0.021837\n",
            "Epoch: 88, Loss: 0.005545\n",
            "Epoch: 89, Loss: 0.012682\n",
            "Epoch: 90, Loss: 0.026414\n",
            "Epoch: 91, Loss: 0.021372\n",
            "Epoch: 92, Loss: 0.025901\n",
            "Epoch: 93, Loss: 0.025262\n",
            "Epoch: 94, Loss: 0.047044\n",
            "Epoch: 95, Loss: 0.016064\n",
            "Epoch: 96, Loss: 0.059213\n",
            "Epoch: 97, Loss: 0.017386\n",
            "Epoch: 98, Loss: 0.016215\n",
            "Epoch: 99, Loss: 0.016987\n"
          ]
        }
      ],
      "source": [
        "import torch\n",
        "import torch.nn as nn\n",
        "import torch.optim as optim\n",
        "\n",
        "train_loader = torch.utils.data.DataLoader(cifar2, batch_size=64,\n",
        "                                           shuffle=True)\n",
        "\n",
        "model = nn.Sequential(\n",
        "            nn.Linear(3072, 128),\n",
        "            nn.Tanh(),\n",
        "            nn.Linear(128, 2),\n",
        "            nn.LogSoftmax(dim=1))\n",
        "\n",
        "learning_rate = 1e-2\n",
        "\n",
        "optimizer = optim.SGD(model.parameters(), lr=learning_rate)\n",
        "\n",
        "loss_fn = nn.NLLLoss()\n",
        "\n",
        "n_epochs = 100\n",
        "\n",
        "for epoch in range(n_epochs):\n",
        "    for imgs, labels in train_loader:\n",
        "        outputs = model(imgs.view(imgs.shape[0], -1))\n",
        "        loss = loss_fn(outputs, labels)\n",
        "\n",
        "        optimizer.zero_grad()\n",
        "        loss.backward()\n",
        "        optimizer.step()\n",
        "\n",
        "    print(\"Epoch: %d, Loss: %f\" % (epoch, float(loss)))"
      ]
    },
    {
      "cell_type": "code",
      "execution_count": null,
      "metadata": {
        "id": "FI3AegTBgk9k",
        "outputId": "8afb7da6-24ac-4c0e-d226-1e5d14134427"
      },
      "outputs": [
        {
          "name": "stdout",
          "output_type": "stream",
          "text": [
            "Epoch: 0, Loss: 0.732168\n",
            "Epoch: 1, Loss: 0.348352\n",
            "Epoch: 2, Loss: 0.318960\n",
            "Epoch: 3, Loss: 0.313264\n",
            "Epoch: 4, Loss: 0.378358\n",
            "Epoch: 5, Loss: 0.276529\n",
            "Epoch: 6, Loss: 0.443889\n",
            "Epoch: 7, Loss: 0.436946\n",
            "Epoch: 8, Loss: 0.324288\n",
            "Epoch: 9, Loss: 0.274647\n",
            "Epoch: 10, Loss: 0.291681\n",
            "Epoch: 11, Loss: 0.242894\n",
            "Epoch: 12, Loss: 0.301849\n",
            "Epoch: 13, Loss: 0.202063\n",
            "Epoch: 14, Loss: 0.389276\n",
            "Epoch: 15, Loss: 0.167129\n",
            "Epoch: 16, Loss: 0.135282\n",
            "Epoch: 17, Loss: 0.385485\n",
            "Epoch: 18, Loss: 0.453852\n",
            "Epoch: 19, Loss: 0.641304\n",
            "Epoch: 20, Loss: 0.287667\n",
            "Epoch: 21, Loss: 0.337029\n",
            "Epoch: 22, Loss: 0.393282\n",
            "Epoch: 23, Loss: 0.409480\n",
            "Epoch: 24, Loss: 0.138473\n",
            "Epoch: 25, Loss: 0.690729\n",
            "Epoch: 26, Loss: 0.572156\n",
            "Epoch: 27, Loss: 0.078534\n",
            "Epoch: 28, Loss: 0.324833\n",
            "Epoch: 29, Loss: 0.262829\n",
            "Epoch: 30, Loss: 0.430449\n",
            "Epoch: 31, Loss: 0.071872\n",
            "Epoch: 32, Loss: 0.058039\n",
            "Epoch: 33, Loss: 0.052903\n",
            "Epoch: 34, Loss: 0.065879\n",
            "Epoch: 35, Loss: 0.107696\n",
            "Epoch: 36, Loss: 0.305224\n",
            "Epoch: 37, Loss: 0.098637\n",
            "Epoch: 38, Loss: 0.139823\n",
            "Epoch: 39, Loss: 0.226455\n",
            "Epoch: 40, Loss: 0.117763\n",
            "Epoch: 41, Loss: 0.106498\n",
            "Epoch: 42, Loss: 0.086254\n",
            "Epoch: 43, Loss: 0.135652\n",
            "Epoch: 44, Loss: 0.070890\n",
            "Epoch: 45, Loss: 0.304346\n",
            "Epoch: 46, Loss: 0.016917\n",
            "Epoch: 47, Loss: 0.057929\n",
            "Epoch: 48, Loss: 0.131021\n",
            "Epoch: 49, Loss: 0.136299\n",
            "Epoch: 50, Loss: 0.048885\n",
            "Epoch: 51, Loss: 0.241048\n",
            "Epoch: 52, Loss: 0.092595\n",
            "Epoch: 53, Loss: 0.059137\n",
            "Epoch: 54, Loss: 0.047421\n",
            "Epoch: 55, Loss: 0.102036\n",
            "Epoch: 56, Loss: 0.023338\n",
            "Epoch: 57, Loss: 0.054306\n",
            "Epoch: 58, Loss: 0.073878\n",
            "Epoch: 59, Loss: 0.031387\n",
            "Epoch: 60, Loss: 0.039865\n",
            "Epoch: 61, Loss: 0.022344\n",
            "Epoch: 62, Loss: 0.052310\n",
            "Epoch: 63, Loss: 0.059688\n",
            "Epoch: 64, Loss: 0.023977\n",
            "Epoch: 65, Loss: 0.010632\n",
            "Epoch: 66, Loss: 0.039090\n",
            "Epoch: 67, Loss: 0.080844\n",
            "Epoch: 68, Loss: 0.029650\n",
            "Epoch: 69, Loss: 0.027038\n",
            "Epoch: 70, Loss: 0.028515\n",
            "Epoch: 71, Loss: 0.021998\n",
            "Epoch: 72, Loss: 0.014992\n",
            "Epoch: 73, Loss: 0.019659\n",
            "Epoch: 74, Loss: 0.025150\n",
            "Epoch: 75, Loss: 0.017384\n",
            "Epoch: 76, Loss: 0.013249\n",
            "Epoch: 77, Loss: 0.009451\n",
            "Epoch: 78, Loss: 0.034637\n",
            "Epoch: 79, Loss: 0.114242\n",
            "Epoch: 80, Loss: 0.019007\n",
            "Epoch: 81, Loss: 0.016319\n",
            "Epoch: 82, Loss: 0.027428\n",
            "Epoch: 83, Loss: 0.022366\n",
            "Epoch: 84, Loss: 0.022583\n",
            "Epoch: 85, Loss: 0.006275\n",
            "Epoch: 86, Loss: 0.011964\n",
            "Epoch: 87, Loss: 0.018711\n",
            "Epoch: 88, Loss: 0.019636\n",
            "Epoch: 89, Loss: 0.018975\n",
            "Epoch: 90, Loss: 0.023520\n",
            "Epoch: 91, Loss: 0.016398\n",
            "Epoch: 92, Loss: 0.006638\n",
            "Epoch: 93, Loss: 0.013305\n",
            "Epoch: 94, Loss: 0.017126\n",
            "Epoch: 95, Loss: 0.021641\n",
            "Epoch: 96, Loss: 0.036945\n",
            "Epoch: 97, Loss: 0.004735\n",
            "Epoch: 98, Loss: 0.016781\n",
            "Epoch: 99, Loss: 0.012039\n"
          ]
        }
      ],
      "source": [
        "import torch\n",
        "import torch.nn as nn\n",
        "import torch.optim as optim\n",
        "\n",
        "train_loader = torch.utils.data.DataLoader(cifar2, batch_size=64,\n",
        "                                           shuffle=True)\n",
        "\n",
        "model = nn.Sequential(\n",
        "            nn.Linear(3072, 512),\n",
        "            nn.Tanh(),\n",
        "            nn.Linear(512, 2),\n",
        "            nn.LogSoftmax(dim=1))\n",
        "\n",
        "learning_rate = 1e-2\n",
        "\n",
        "optimizer = optim.SGD(model.parameters(), lr=learning_rate)\n",
        "\n",
        "loss_fn = nn.NLLLoss()\n",
        "\n",
        "n_epochs = 100\n",
        "\n",
        "for epoch in range(n_epochs):\n",
        "    for imgs, labels in train_loader:\n",
        "        outputs = model(imgs.view(imgs.shape[0], -1))\n",
        "        loss = loss_fn(outputs, labels)\n",
        "\n",
        "        optimizer.zero_grad()\n",
        "        loss.backward()\n",
        "        optimizer.step()\n",
        "\n",
        "    print(\"Epoch: %d, Loss: %f\" % (epoch, float(loss)))"
      ]
    },
    {
      "cell_type": "code",
      "execution_count": null,
      "metadata": {
        "id": "5Yn336mngk9k",
        "outputId": "f719d354-1914-4dd5-ef78-f114fb4f8b4b"
      },
      "outputs": [
        {
          "name": "stdout",
          "output_type": "stream",
          "text": [
            "Accuracy: 0.997700\n"
          ]
        }
      ],
      "source": [
        "train_loader = torch.utils.data.DataLoader(cifar2, batch_size=64,\n",
        "                                           shuffle=False)\n",
        "\n",
        "correct = 0\n",
        "total = 0\n",
        "\n",
        "with torch.no_grad():\n",
        "    for imgs, labels in train_loader:\n",
        "        outputs = model(imgs.view(imgs.shape[0], -1))\n",
        "        _, predicted = torch.max(outputs, dim=1)\n",
        "        total += labels.shape[0]\n",
        "        correct += int((predicted == labels).sum())\n",
        "\n",
        "print(\"Accuracy: %f\" % (correct / total))"
      ]
    },
    {
      "cell_type": "code",
      "execution_count": null,
      "metadata": {
        "id": "Mz_Uq9MTgk9k",
        "outputId": "ff031f2e-cb37-4c85-bc7c-feb371454225"
      },
      "outputs": [
        {
          "name": "stdout",
          "output_type": "stream",
          "text": [
            "Accuracy: 0.821000\n"
          ]
        }
      ],
      "source": [
        "val_loader = torch.utils.data.DataLoader(cifar2_val, batch_size=64,\n",
        "                                         shuffle=False)\n",
        "\n",
        "correct = 0\n",
        "total = 0\n",
        "\n",
        "with torch.no_grad():\n",
        "    for imgs, labels in val_loader:\n",
        "        outputs = model(imgs.view(imgs.shape[0], -1))\n",
        "        _, predicted = torch.max(outputs, dim=1)\n",
        "        total += labels.shape[0]\n",
        "        correct += int((predicted == labels).sum())\n",
        "\n",
        "print(\"Accuracy: %f\" % (correct / total))"
      ]
    },
    {
      "cell_type": "code",
      "execution_count": null,
      "metadata": {
        "id": "xKqzl7iigk9l"
      },
      "outputs": [],
      "source": [
        "model = nn.Sequential(\n",
        "            nn.Linear(3072, 1024),\n",
        "            nn.Tanh(),\n",
        "            nn.Linear(1024, 512),\n",
        "            nn.Tanh(),\n",
        "            nn.Linear(512, 128),\n",
        "            nn.Tanh(),\n",
        "            nn.Linear(128, 2),\n",
        "            nn.LogSoftmax(dim=1))"
      ]
    },
    {
      "cell_type": "code",
      "execution_count": null,
      "metadata": {
        "id": "MsCJeQFDgk9m"
      },
      "outputs": [],
      "source": [
        "model = nn.Sequential(\n",
        "            nn.Linear(3072, 1024),\n",
        "            nn.Tanh(),\n",
        "            nn.Linear(1024, 512),\n",
        "            nn.Tanh(),\n",
        "            nn.Linear(512, 128),\n",
        "            nn.Tanh(),\n",
        "            nn.Linear(128, 2))\n",
        "\n",
        "loss_fn = nn.CrossEntropyLoss()"
      ]
    },
    {
      "cell_type": "code",
      "execution_count": null,
      "metadata": {
        "id": "ieVkgr44gk9m",
        "outputId": "a22a14d2-ac7e-4383-87d8-260622e45c71"
      },
      "outputs": [
        {
          "name": "stdout",
          "output_type": "stream",
          "text": [
            "Epoch: 0, Loss: 0.641261\n",
            "Epoch: 1, Loss: 0.525149\n",
            "Epoch: 2, Loss: 0.466143\n",
            "Epoch: 3, Loss: 0.451913\n",
            "Epoch: 4, Loss: 0.343860\n",
            "Epoch: 5, Loss: 0.309738\n",
            "Epoch: 6, Loss: 0.485261\n",
            "Epoch: 7, Loss: 0.283789\n",
            "Epoch: 8, Loss: 0.301561\n",
            "Epoch: 9, Loss: 0.408200\n",
            "Epoch: 10, Loss: 0.346715\n",
            "Epoch: 11, Loss: 0.358134\n",
            "Epoch: 12, Loss: 0.388485\n",
            "Epoch: 13, Loss: 0.378096\n",
            "Epoch: 14, Loss: 0.518019\n",
            "Epoch: 15, Loss: 0.359279\n",
            "Epoch: 16, Loss: 0.420371\n",
            "Epoch: 17, Loss: 0.366249\n",
            "Epoch: 18, Loss: 0.282639\n",
            "Epoch: 19, Loss: 0.468854\n",
            "Epoch: 20, Loss: 0.467920\n",
            "Epoch: 21, Loss: 0.237441\n",
            "Epoch: 22, Loss: 0.243472\n",
            "Epoch: 23, Loss: 0.566929\n",
            "Epoch: 24, Loss: 0.316143\n",
            "Epoch: 25, Loss: 0.336322\n",
            "Epoch: 26, Loss: 0.473064\n",
            "Epoch: 27, Loss: 0.407040\n",
            "Epoch: 28, Loss: 0.252989\n",
            "Epoch: 29, Loss: 0.195740\n",
            "Epoch: 30, Loss: 0.663084\n",
            "Epoch: 31, Loss: 0.659899\n",
            "Epoch: 32, Loss: 0.285113\n",
            "Epoch: 33, Loss: 0.212042\n",
            "Epoch: 34, Loss: 0.324017\n",
            "Epoch: 35, Loss: 0.097063\n",
            "Epoch: 36, Loss: 0.181754\n",
            "Epoch: 37, Loss: 0.091362\n",
            "Epoch: 38, Loss: 0.069348\n",
            "Epoch: 39, Loss: 0.085656\n",
            "Epoch: 40, Loss: 0.163399\n",
            "Epoch: 41, Loss: 0.064912\n",
            "Epoch: 42, Loss: 0.046740\n",
            "Epoch: 43, Loss: 0.029891\n",
            "Epoch: 44, Loss: 0.018157\n",
            "Epoch: 45, Loss: 0.103532\n",
            "Epoch: 46, Loss: 0.161911\n",
            "Epoch: 47, Loss: 0.238185\n",
            "Epoch: 48, Loss: 0.081116\n",
            "Epoch: 49, Loss: 0.040988\n",
            "Epoch: 50, Loss: 0.008668\n",
            "Epoch: 51, Loss: 0.012557\n",
            "Epoch: 52, Loss: 0.015967\n",
            "Epoch: 53, Loss: 0.020964\n",
            "Epoch: 54, Loss: 0.023478\n",
            "Epoch: 55, Loss: 0.012850\n",
            "Epoch: 56, Loss: 0.054703\n",
            "Epoch: 57, Loss: 0.014922\n",
            "Epoch: 58, Loss: 0.045488\n",
            "Epoch: 59, Loss: 0.122221\n",
            "Epoch: 60, Loss: 0.028012\n",
            "Epoch: 61, Loss: 0.029533\n",
            "Epoch: 62, Loss: 0.004758\n",
            "Epoch: 63, Loss: 0.080409\n",
            "Epoch: 64, Loss: 0.005409\n",
            "Epoch: 65, Loss: 0.020399\n",
            "Epoch: 66, Loss: 0.008184\n",
            "Epoch: 67, Loss: 0.013888\n",
            "Epoch: 68, Loss: 0.002199\n",
            "Epoch: 69, Loss: 0.001918\n",
            "Epoch: 70, Loss: 0.018765\n",
            "Epoch: 71, Loss: 0.004223\n",
            "Epoch: 72, Loss: 0.001795\n",
            "Epoch: 73, Loss: 0.102238\n",
            "Epoch: 74, Loss: 0.002482\n",
            "Epoch: 75, Loss: 0.005807\n",
            "Epoch: 76, Loss: 0.001742\n",
            "Epoch: 77, Loss: 0.012760\n",
            "Epoch: 78, Loss: 0.017469\n",
            "Epoch: 79, Loss: 0.002849\n",
            "Epoch: 80, Loss: 0.001452\n",
            "Epoch: 81, Loss: 0.002740\n",
            "Epoch: 82, Loss: 0.003317\n",
            "Epoch: 83, Loss: 0.002066\n",
            "Epoch: 84, Loss: 0.001952\n",
            "Epoch: 85, Loss: 0.010757\n",
            "Epoch: 86, Loss: 0.004866\n",
            "Epoch: 87, Loss: 0.003957\n",
            "Epoch: 88, Loss: 0.001295\n",
            "Epoch: 89, Loss: 0.004410\n",
            "Epoch: 90, Loss: 0.002952\n",
            "Epoch: 91, Loss: 0.000676\n",
            "Epoch: 92, Loss: 0.001835\n",
            "Epoch: 93, Loss: 0.000739\n",
            "Epoch: 94, Loss: 0.001102\n",
            "Epoch: 95, Loss: 0.000792\n",
            "Epoch: 96, Loss: 0.000515\n",
            "Epoch: 97, Loss: 0.001548\n",
            "Epoch: 98, Loss: 0.026913\n",
            "Epoch: 99, Loss: 0.000140\n"
          ]
        }
      ],
      "source": [
        "import torch\n",
        "import torch.nn as nn\n",
        "import torch.optim as optim\n",
        "\n",
        "train_loader = torch.utils.data.DataLoader(cifar2, batch_size=64,\n",
        "                                           shuffle=True)\n",
        "\n",
        "model = nn.Sequential(\n",
        "            nn.Linear(3072, 1024),\n",
        "            nn.Tanh(),\n",
        "            nn.Linear(1024, 512),\n",
        "            nn.Tanh(),\n",
        "            nn.Linear(512, 128),\n",
        "            nn.Tanh(),\n",
        "            nn.Linear(128, 2))\n",
        "\n",
        "learning_rate = 1e-2\n",
        "\n",
        "optimizer = optim.SGD(model.parameters(), lr=learning_rate)\n",
        "\n",
        "loss_fn = nn.CrossEntropyLoss()\n",
        "\n",
        "n_epochs = 100\n",
        "\n",
        "for epoch in range(n_epochs):\n",
        "    for imgs, labels in train_loader:\n",
        "        outputs = model(imgs.view(imgs.shape[0], -1))\n",
        "        loss = loss_fn(outputs, labels)\n",
        "\n",
        "        optimizer.zero_grad()\n",
        "        loss.backward()\n",
        "        optimizer.step()\n",
        "\n",
        "    print(\"Epoch: %d, Loss: %f\" % (epoch, float(loss)))"
      ]
    },
    {
      "cell_type": "code",
      "execution_count": null,
      "metadata": {
        "id": "9AatHMLtgk9n",
        "outputId": "df4179a1-975f-4f9b-d652-fc507f5bf2d8"
      },
      "outputs": [
        {
          "name": "stdout",
          "output_type": "stream",
          "text": [
            "Accuracy: 0.999700\n"
          ]
        }
      ],
      "source": [
        "train_loader = torch.utils.data.DataLoader(cifar2, batch_size=64,\n",
        "                                           shuffle=False)\n",
        "\n",
        "correct = 0\n",
        "total = 0\n",
        "\n",
        "with torch.no_grad():\n",
        "    for imgs, labels in train_loader:\n",
        "        outputs = model(imgs.view(imgs.shape[0], -1))\n",
        "        _, predicted = torch.max(outputs, dim=1)\n",
        "        total += labels.shape[0]\n",
        "        correct += int((predicted == labels).sum())\n",
        "\n",
        "print(\"Accuracy: %f\" % (correct / total))"
      ]
    },
    {
      "cell_type": "code",
      "execution_count": null,
      "metadata": {
        "id": "X-uBmMqbgk9n",
        "outputId": "7ea565f5-6c1b-4211-d871-262b55ec4ca8"
      },
      "outputs": [
        {
          "name": "stdout",
          "output_type": "stream",
          "text": [
            "Accuracy: 0.801000\n"
          ]
        }
      ],
      "source": [
        "val_loader = torch.utils.data.DataLoader(cifar2_val, batch_size=64,\n",
        "                                         shuffle=False)\n",
        "\n",
        "correct = 0\n",
        "total = 0\n",
        "\n",
        "with torch.no_grad():\n",
        "    for imgs, labels in val_loader:\n",
        "        outputs = model(imgs.view(imgs.shape[0], -1))\n",
        "        _, predicted = torch.max(outputs, dim=1)\n",
        "        total += labels.shape[0]\n",
        "        correct += int((predicted == labels).sum())\n",
        "\n",
        "print(\"Accuracy: %f\" % (correct / total))"
      ]
    },
    {
      "cell_type": "code",
      "execution_count": null,
      "metadata": {
        "id": "whfBKiAYgk9o",
        "outputId": "33c33259-949f-4366-dc3a-ad101e63d36a"
      },
      "outputs": [
        {
          "data": {
            "text/plain": [
              "3737474"
            ]
          },
          "execution_count": 44,
          "metadata": {},
          "output_type": "execute_result"
        }
      ],
      "source": [
        "sum([p.numel() for p in model.parameters()])"
      ]
    },
    {
      "cell_type": "code",
      "execution_count": null,
      "metadata": {
        "id": "APoGVfHTgk9p",
        "outputId": "866bbf99-468a-4935-b76d-2dac291cdbd4"
      },
      "outputs": [
        {
          "data": {
            "text/plain": [
              "3737474"
            ]
          },
          "execution_count": 45,
          "metadata": {},
          "output_type": "execute_result"
        }
      ],
      "source": [
        "sum([p.numel() for p in model.parameters() if p.requires_grad == True])"
      ]
    },
    {
      "cell_type": "code",
      "execution_count": null,
      "metadata": {
        "id": "qtzvty9cgk9p",
        "outputId": "b7a8b854-d596-4cb0-e4eb-22777417f44c"
      },
      "outputs": [
        {
          "data": {
            "text/plain": [
              "1574402"
            ]
          },
          "execution_count": 46,
          "metadata": {},
          "output_type": "execute_result"
        }
      ],
      "source": [
        "first_model = nn.Sequential(\n",
        "                nn.Linear(3072, 512),\n",
        "                nn.Tanh(),\n",
        "                nn.Linear(512, 2),\n",
        "                nn.LogSoftmax(dim=1))\n",
        "\n",
        "sum([p.numel() for p in first_model.parameters()])"
      ]
    },
    {
      "cell_type": "code",
      "execution_count": null,
      "metadata": {
        "id": "DCcHfnk1gk9q",
        "outputId": "bdb1ac1a-ca28-4f0b-9985-4700bcf6dce6"
      },
      "outputs": [
        {
          "data": {
            "text/plain": [
              "1573376"
            ]
          },
          "execution_count": 47,
          "metadata": {},
          "output_type": "execute_result"
        }
      ],
      "source": [
        "sum([p.numel() for p in nn.Linear(3072, 512).parameters()])"
      ]
    },
    {
      "cell_type": "code",
      "execution_count": null,
      "metadata": {
        "id": "pdiY-hevgk9r",
        "outputId": "7b0d9fe3-c29c-4ce7-abf0-186d61179749"
      },
      "outputs": [
        {
          "data": {
            "text/plain": [
              "3146752"
            ]
          },
          "execution_count": 48,
          "metadata": {},
          "output_type": "execute_result"
        }
      ],
      "source": [
        "sum([p.numel() for p in nn.Linear(3072, 1024).parameters()])"
      ]
    },
    {
      "cell_type": "code",
      "execution_count": null,
      "metadata": {
        "id": "mUjp4bXrgk9s",
        "outputId": "4b64ea9f-9c06-447e-8e05-80822439d02f"
      },
      "outputs": [
        {
          "data": {
            "text/plain": [
              "(torch.Size([1024, 3072]), torch.Size([1024]))"
            ]
          },
          "execution_count": 49,
          "metadata": {},
          "output_type": "execute_result"
        }
      ],
      "source": [
        "linear = nn.Linear(3072, 1024)\n",
        "\n",
        "linear.weight.shape, linear.bias.shape"
      ]
    },
    {
      "cell_type": "code",
      "execution_count": null,
      "metadata": {
        "id": "ufbKl5FOgk9t"
      },
      "outputs": [],
      "source": [
        "conv = nn.Conv2d(3, 16, kernel_size=3)"
      ]
    },
    {
      "cell_type": "code",
      "execution_count": null,
      "metadata": {
        "id": "8wMEvsZ2gk9t",
        "outputId": "8e10efe1-0917-40a3-ac91-654c7b29a6fa"
      },
      "outputs": [
        {
          "data": {
            "text/plain": [
              "torch.Size([16, 3, 3, 3])"
            ]
          },
          "execution_count": 51,
          "metadata": {},
          "output_type": "execute_result"
        }
      ],
      "source": [
        "conv.weight.shape"
      ]
    },
    {
      "cell_type": "code",
      "execution_count": null,
      "metadata": {
        "id": "JSziHw5Tgk9t",
        "outputId": "b33ae54d-8857-4a22-8d31-8e1484d17777"
      },
      "outputs": [
        {
          "data": {
            "text/plain": [
              "torch.Size([16])"
            ]
          },
          "execution_count": 52,
          "metadata": {},
          "output_type": "execute_result"
        }
      ],
      "source": [
        "conv.bias.shape"
      ]
    },
    {
      "cell_type": "code",
      "execution_count": null,
      "metadata": {
        "id": "RU6Rt4Xigk9u"
      },
      "outputs": [],
      "source": [
        "img, _ = cifar2[0]\n",
        "\n",
        "output = conv(img.unsqueeze(0))"
      ]
    },
    {
      "cell_type": "code",
      "execution_count": null,
      "metadata": {
        "id": "PRq3elaygk9u",
        "outputId": "bf2bf34f-5304-4856-a218-86b301889553"
      },
      "outputs": [
        {
          "data": {
            "text/plain": [
              "(torch.Size([1, 3, 32, 32]), torch.Size([1, 16, 30, 30]))"
            ]
          },
          "execution_count": 54,
          "metadata": {},
          "output_type": "execute_result"
        }
      ],
      "source": [
        "img.unsqueeze(0).shape, output.shape"
      ]
    },
    {
      "cell_type": "code",
      "execution_count": null,
      "metadata": {
        "id": "qFpTRvMsgk9v",
        "outputId": "cc0b3b73-664a-4318-bb88-8a3da0579e72"
      },
      "outputs": [
        {
          "name": "stderr",
          "output_type": "stream",
          "text": [
            "Clipping input data to the valid range for imshow with RGB data ([0..1] for floats or [0..255] for integers).\n"
          ]
        },
        {
          "data": {
            "image/png": "[encoded data removed]",
            "text/plain": [
              "<Figure size 432x288 with 1 Axes>"
            ]
          },
          "metadata": {
            "needs_background": "light"
          },
          "output_type": "display_data"
        }
      ],
      "source": [
        "plt.imshow(img.permute(1, 2, 0), cmap='gray')\n",
        "plt.show()"
      ]
    },
    {
      "cell_type": "code",
      "execution_count": null,
      "metadata": {
        "id": "NoCCQgKPgk9v",
        "outputId": "87baf976-8559-4bdd-da82-7cced59dd4a3"
      },
      "outputs": [
        {
          "data": {
            "image/png": "[encoded data removed]",
            "text/plain": [
              "<Figure size 432x288 with 1 Axes>"
            ]
          },
          "metadata": {
            "needs_background": "light"
          },
          "output_type": "display_data"
        }
      ],
      "source": [
        "plt.imshow(output[0, 0].detach(), cmap='gray')\n",
        "plt.show()"
      ]
    },
    {
      "cell_type": "code",
      "execution_count": null,
      "metadata": {
        "id": "9LLAqwxRgk9w",
        "outputId": "9b0bf6cf-0998-4507-b10f-c76b1d4e196c"
      },
      "outputs": [
        {
          "data": {
            "text/plain": [
              "torch.Size([1, 16, 30, 30])"
            ]
          },
          "execution_count": 57,
          "metadata": {},
          "output_type": "execute_result"
        }
      ],
      "source": [
        "output.shape"
      ]
    },
    {
      "cell_type": "code",
      "execution_count": null,
      "metadata": {
        "id": "YNkXyz7Rgk9w"
      },
      "outputs": [],
      "source": [
        "conv = nn.Conv2d(3, 1, kernel_size=3, padding=1)"
      ]
    },
    {
      "cell_type": "code",
      "execution_count": null,
      "metadata": {
        "id": "5HydCkJIgk9w",
        "outputId": "a85252d7-0523-482c-8d3c-4cbfbafe4b72"
      },
      "outputs": [
        {
          "data": {
            "text/plain": [
              "torch.Size([1, 1, 32, 32])"
            ]
          },
          "execution_count": 59,
          "metadata": {},
          "output_type": "execute_result"
        }
      ],
      "source": [
        "output = conv(img.unsqueeze(0))\n",
        "\n",
        "output.shape"
      ]
    },
    {
      "cell_type": "code",
      "execution_count": null,
      "metadata": {
        "id": "9BUFTiPHgk9w"
      },
      "outputs": [],
      "source": [
        "with torch.no_grad():\n",
        "    conv.bias.zero_()"
      ]
    },
    {
      "cell_type": "code",
      "execution_count": null,
      "metadata": {
        "id": "1D_RmVZ0gk9x"
      },
      "outputs": [],
      "source": [
        "with torch.no_grad():\n",
        "    conv.weight.fill_(1.0 / 9.0)"
      ]
    },
    {
      "cell_type": "code",
      "execution_count": null,
      "metadata": {
        "id": "1L7I1IP0gk9x",
        "outputId": "68aa74c7-f393-47bc-c3b3-d54473453aa8"
      },
      "outputs": [
        {
          "data": {
            "image/png": "[encoded data removed]",
            "text/plain": [
              "<Figure size 432x288 with 1 Axes>"
            ]
          },
          "metadata": {
            "needs_background": "light"
          },
          "output_type": "display_data"
        }
      ],
      "source": [
        "output = conv(img.unsqueeze(0))\n",
        "plt.imshow(output[0, 0].detach(), cmap='gray')\n",
        "plt.show()"
      ]
    },
    {
      "cell_type": "code",
      "execution_count": null,
      "metadata": {
        "id": "qugKtfCrgk9x"
      },
      "outputs": [],
      "source": [
        "conv = nn.Conv2d(3, 1, kernel_size=3, padding=1)\n",
        "\n",
        "with torch.no_grad():\n",
        "    conv.weight[:] = torch.tensor([[-1.0, 0.0, 1.0],\n",
        "                                   [-1.0, 0.0, 1.0],\n",
        "                                   [-1.0, 0.0, 1.0]])\n",
        "    conv.bias.zero_()"
      ]
    },
    {
      "cell_type": "code",
      "execution_count": null,
      "metadata": {
        "id": "-fPeqT68gk9y",
        "outputId": "dbbc4d02-a7ce-4c3a-c7f8-2359dcf6b760"
      },
      "outputs": [
        {
          "data": {
            "image/png": "[encoded data removed]",
            "text/plain": [
              "<Figure size 432x288 with 1 Axes>"
            ]
          },
          "metadata": {
            "needs_background": "light"
          },
          "output_type": "display_data"
        }
      ],
      "source": [
        "output = conv(img.unsqueeze(0))\n",
        "plt.imshow(output[0, 0].detach(), cmap='gray')\n",
        "plt.show()"
      ]
    },
    {
      "cell_type": "code",
      "execution_count": null,
      "metadata": {
        "id": "KeV--f9Agk9y"
      },
      "outputs": [],
      "source": [
        "pool = nn.MaxPool2d(2)"
      ]
    },
    {
      "cell_type": "code",
      "execution_count": null,
      "metadata": {
        "id": "EyBLDD2jgk9y",
        "outputId": "20cfa6ad-8787-4492-f590-b8e4aa632361"
      },
      "outputs": [
        {
          "data": {
            "text/plain": [
              "torch.Size([1, 3, 16, 16])"
            ]
          },
          "execution_count": 66,
          "metadata": {},
          "output_type": "execute_result"
        }
      ],
      "source": [
        "output = pool(img.unsqueeze(0))\n",
        "\n",
        "output.shape"
      ]
    },
    {
      "cell_type": "code",
      "execution_count": null,
      "metadata": {
        "id": "GmDBFJ5ygk9z",
        "outputId": "cab3c2a4-418f-4aed-a6b4-a95b5b086eda"
      },
      "outputs": [
        {
          "ename": "TypeError",
          "evalue": "ellipsis is not a Module subclass",
          "output_type": "error",
          "traceback": [
            "\u001b[1;31m---------------------------------------------------------------------------\u001b[0m",
            "\u001b[1;31mTypeError\u001b[0m                                 Traceback (most recent call last)",
            "\u001b[1;32m<ipython-input-67-94807a3b1438>\u001b[0m in \u001b[0;36m<module>\u001b[1;34m\u001b[0m\n\u001b[0;32m      6\u001b[0m             \u001b[0mnn\u001b[0m\u001b[1;33m.\u001b[0m\u001b[0mTanh\u001b[0m\u001b[1;33m(\u001b[0m\u001b[1;33m)\u001b[0m\u001b[1;33m,\u001b[0m\u001b[1;33m\u001b[0m\u001b[0m\n\u001b[0;32m      7\u001b[0m             \u001b[0mnn\u001b[0m\u001b[1;33m.\u001b[0m\u001b[0mMaxPool2d\u001b[0m\u001b[1;33m(\u001b[0m\u001b[1;36m2\u001b[0m\u001b[1;33m)\u001b[0m\u001b[1;33m,\u001b[0m\u001b[1;33m\u001b[0m\u001b[0m\n\u001b[1;32m----> 8\u001b[1;33m             ...)\n\u001b[0m",
            "\u001b[1;32m~\\Miniconda3\\envs\\book\\lib\\site-packages\\torch\\nn\\modules\\container.py\u001b[0m in \u001b[0;36m__init__\u001b[1;34m(self, *args)\u001b[0m\n\u001b[0;32m     51\u001b[0m         \u001b[1;32melse\u001b[0m\u001b[1;33m:\u001b[0m\u001b[1;33m\u001b[0m\u001b[0m\n\u001b[0;32m     52\u001b[0m             \u001b[1;32mfor\u001b[0m \u001b[0midx\u001b[0m\u001b[1;33m,\u001b[0m \u001b[0mmodule\u001b[0m \u001b[1;32min\u001b[0m \u001b[0menumerate\u001b[0m\u001b[1;33m(\u001b[0m\u001b[0margs\u001b[0m\u001b[1;33m)\u001b[0m\u001b[1;33m:\u001b[0m\u001b[1;33m\u001b[0m\u001b[0m\n\u001b[1;32m---> 53\u001b[1;33m                 \u001b[0mself\u001b[0m\u001b[1;33m.\u001b[0m\u001b[0madd_module\u001b[0m\u001b[1;33m(\u001b[0m\u001b[0mstr\u001b[0m\u001b[1;33m(\u001b[0m\u001b[0midx\u001b[0m\u001b[1;33m)\u001b[0m\u001b[1;33m,\u001b[0m \u001b[0mmodule\u001b[0m\u001b[1;33m)\u001b[0m\u001b[1;33m\u001b[0m\u001b[0m\n\u001b[0m\u001b[0;32m     54\u001b[0m \u001b[1;33m\u001b[0m\u001b[0m\n\u001b[0;32m     55\u001b[0m     \u001b[1;32mdef\u001b[0m \u001b[0m_get_item_by_idx\u001b[0m\u001b[1;33m(\u001b[0m\u001b[0mself\u001b[0m\u001b[1;33m,\u001b[0m \u001b[0miterator\u001b[0m\u001b[1;33m,\u001b[0m \u001b[0midx\u001b[0m\u001b[1;33m)\u001b[0m\u001b[1;33m:\u001b[0m\u001b[1;33m\u001b[0m\u001b[0m\n",
            "\u001b[1;32m~\\Miniconda3\\envs\\book\\lib\\site-packages\\torch\\nn\\modules\\module.py\u001b[0m in \u001b[0;36madd_module\u001b[1;34m(self, name, module)\u001b[0m\n\u001b[0;32m    171\u001b[0m         \u001b[1;32mif\u001b[0m \u001b[1;32mnot\u001b[0m \u001b[0misinstance\u001b[0m\u001b[1;33m(\u001b[0m\u001b[0mmodule\u001b[0m\u001b[1;33m,\u001b[0m \u001b[0mModule\u001b[0m\u001b[1;33m)\u001b[0m \u001b[1;32mand\u001b[0m \u001b[0mmodule\u001b[0m \u001b[1;32mis\u001b[0m \u001b[1;32mnot\u001b[0m \u001b[1;32mNone\u001b[0m\u001b[1;33m:\u001b[0m\u001b[1;33m\u001b[0m\u001b[0m\n\u001b[0;32m    172\u001b[0m             raise TypeError(\"{} is not a Module subclass\".format(\n\u001b[1;32m--> 173\u001b[1;33m                 torch.typename(module)))\n\u001b[0m\u001b[0;32m    174\u001b[0m         \u001b[1;32melif\u001b[0m \u001b[1;32mnot\u001b[0m \u001b[0misinstance\u001b[0m\u001b[1;33m(\u001b[0m\u001b[0mname\u001b[0m\u001b[1;33m,\u001b[0m \u001b[0mtorch\u001b[0m\u001b[1;33m.\u001b[0m\u001b[0m_six\u001b[0m\u001b[1;33m.\u001b[0m\u001b[0mstring_classes\u001b[0m\u001b[1;33m)\u001b[0m\u001b[1;33m:\u001b[0m\u001b[1;33m\u001b[0m\u001b[0m\n\u001b[0;32m    175\u001b[0m             raise TypeError(\"module name should be a string. Got {}\".format(\n",
            "\u001b[1;31mTypeError\u001b[0m: ellipsis is not a Module subclass"
          ]
        }
      ],
      "source": [
        "model = nn.Sequential(\n",
        "            nn.Conv2d(3, 16, kernel_size=3, padding=1),\n",
        "            nn.Tanh(),\n",
        "            nn.MaxPool2d(2),\n",
        "            nn.Conv2d(16, 8, kernel_size=3, padding=1),\n",
        "            nn.Tanh(),\n",
        "            nn.MaxPool2d(2),\n",
        "            ...)"
      ]
    },
    {
      "cell_type": "code",
      "execution_count": null,
      "metadata": {
        "id": "4Zmk4qMQgk9z"
      },
      "outputs": [],
      "source": [
        "model = nn.Sequential(\n",
        "            nn.Conv2d(3, 16, kernel_size=3, padding=1),\n",
        "            nn.Tanh(),\n",
        "            nn.MaxPool2d(2),\n",
        "            nn.Conv2d(16, 8, kernel_size=3, padding=1),\n",
        "            nn.Tanh(),\n",
        "            nn.MaxPool2d(2),\n",
        "            # WARNING: something missing here\n",
        "            nn.Linear(512, 32),\n",
        "            nn.Tanh(),\n",
        "            nn.Linear(32, 2))"
      ]
    },
    {
      "cell_type": "code",
      "execution_count": null,
      "metadata": {
        "id": "Cutn6mpQgk9z"
      },
      "outputs": [],
      "source": [
        "sum([p.numel() for p in model.parameters()])"
      ]
    },
    {
      "cell_type": "code",
      "execution_count": null,
      "metadata": {
        "id": "mk0CFP-ggk9z"
      },
      "outputs": [],
      "source": [
        "model(img.unsqueeze(0))"
      ]
    },
    {
      "cell_type": "code",
      "execution_count": null,
      "metadata": {
        "id": "i3BKWofGgk90"
      },
      "outputs": [],
      "source": [
        "class Net(nn.Module):\n",
        "    def __init__(self):\n",
        "        super(Net, self).__init__()\n",
        "        self.conv1 = nn.Conv2d(3, 16, kernel_size=3, padding=1)\n",
        "        self.act1 = nn.Tanh()\n",
        "        self.pool1 = nn.MaxPool2d(2)\n",
        "        self.conv2 = nn.Conv2d(16, 8, kernel_size=3, padding=1)\n",
        "        self.act2 = nn.Tanh()\n",
        "        self.pool2 = nn.MaxPool2d(2)\n",
        "        self.fc1 = nn.Linear(8 * 8 * 8, 32)\n",
        "        self.act4 = nn.Tanh()\n",
        "        self.fc2 = nn.Linear(32, 2)\n",
        "\n",
        "    def forward(self, x):\n",
        "        out = self.pool1(self.act1(self.conv1(x)))\n",
        "        out = self.pool2(self.act2(self.conv2(out)))\n",
        "        out = out.view(-1, 8 * 8 * 8)\n",
        "        out = self.act4(self.fc1(out))\n",
        "        out = self.fc2(out)\n",
        "        return out"
      ]
    },
    {
      "cell_type": "code",
      "execution_count": null,
      "metadata": {
        "id": "4BXj9ebfgk90"
      },
      "outputs": [],
      "source": [
        "model = Net()\n",
        "\n",
        "sum([p.numel() for p in model.parameters()])"
      ]
    },
    {
      "cell_type": "code",
      "execution_count": null,
      "metadata": {
        "id": "cgF7-vOGgk91"
      },
      "outputs": [],
      "source": [
        "import torch.nn.functional as F\n",
        "\n",
        "class Net(nn.Module):\n",
        "    def __init__(self):\n",
        "        super(Net, self).__init__()\n",
        "        self.conv1 = nn.Conv2d(3, 16, kernel_size=3, padding=1)\n",
        "        self.conv2 = nn.Conv2d(16, 8, kernel_size=3, padding=1)\n",
        "        self.fc1 = nn.Linear(8 * 8 * 8, 32)\n",
        "        self.fc2 = nn.Linear(32, 2)\n",
        "\n",
        "    def forward(self, x):\n",
        "        out = F.max_pool2d(torch.tanh(self.conv1(x)), 2)\n",
        "        out = F.max_pool2d(torch.tanh(self.conv2(out)), 2)\n",
        "        out = out.view(-1, 8 * 8 * 8)\n",
        "        out = torch.tanh(self.fc1(out))\n",
        "        out = self.fc2(out)\n",
        "        return out"
      ]
    },
    {
      "cell_type": "code",
      "execution_count": null,
      "metadata": {
        "id": "J3MGE_97gk91"
      },
      "outputs": [],
      "source": [
        "model = Net()\n",
        "model(img.unsqueeze(0))"
      ]
    },
    {
      "cell_type": "code",
      "execution_count": null,
      "metadata": {
        "id": "BnQmisI-gk91"
      },
      "outputs": [],
      "source": [
        "import torch\n",
        "import torch.nn as nn\n",
        "import torch.nn.functional as F\n",
        "\n",
        "train_loader = torch.utils.data.DataLoader(cifar2, batch_size=64,\n",
        "                                           shuffle=True)\n",
        "\n",
        "class Net(nn.Module):\n",
        "    def __init__(self):\n",
        "        super(Net, self).__init__()\n",
        "        self.conv1 = nn.Conv2d(3, 16, kernel_size=3, padding=1)\n",
        "        self.conv2 = nn.Conv2d(16, 8, kernel_size=3, padding=1)\n",
        "        self.fc1 = nn.Linear(8 * 8 * 8, 32)\n",
        "        self.fc2 = nn.Linear(32, 2)\n",
        "\n",
        "    def forward(self, x):\n",
        "        out = F.max_pool2d(torch.relu(self.conv1(x)), 2)\n",
        "        out = F.max_pool2d(torch.relu(self.conv2(out)), 2)\n",
        "        out = out.view(-1, 8 * 8 * 8)\n",
        "        out = torch.tanh(self.fc1(out))\n",
        "        out = self.fc2(out)\n",
        "        return out\n",
        "\n",
        "model = Net()\n",
        "\n",
        "learning_rate = 1e-2\n",
        "\n",
        "optimizer = optim.SGD(model.parameters(), lr=learning_rate)\n",
        "\n",
        "loss_fn = nn.CrossEntropyLoss()\n",
        "\n",
        "n_epochs = 100\n",
        "\n",
        "for epoch in range(n_epochs):\n",
        "    for imgs, labels in train_loader:\n",
        "        outputs = model(imgs)\n",
        "        loss = loss_fn(outputs, labels)\n",
        "\n",
        "        optimizer.zero_grad()\n",
        "        loss.backward()\n",
        "        optimizer.step()\n",
        "\n",
        "    print(\"Epoch: %d, Loss: %f\" % (epoch, float(loss)))"
      ]
    },
    {
      "cell_type": "code",
      "execution_count": null,
      "metadata": {
        "id": "Z3JD6jBWgk92"
      },
      "outputs": [],
      "source": [
        "train_loader = torch.utils.data.DataLoader(cifar2, batch_size=64,\n",
        "                                           shuffle=False)\n",
        "\n",
        "correct = 0\n",
        "total = 0\n",
        "\n",
        "with torch.no_grad():\n",
        "    for imgs, labels in train_loader:\n",
        "        outputs = model(imgs)\n",
        "        _, predicted = torch.max(outputs, dim=1)\n",
        "        total += labels.shape[0]\n",
        "        correct += int((predicted == labels).sum())\n",
        "\n",
        "print(\"Accuracy: %f\" % (correct / total))"
      ]
    },
    {
      "cell_type": "code",
      "execution_count": null,
      "metadata": {
        "id": "9UUZPxUNgk92"
      },
      "outputs": [],
      "source": [
        "val_loader = torch.utils.data.DataLoader(cifar2_val, batch_size=64,\n",
        "                                         shuffle=False)\n",
        "\n",
        "correct = 0\n",
        "total = 0\n",
        "\n",
        "with torch.no_grad():\n",
        "    for imgs, labels in val_loader:\n",
        "        outputs = model(imgs)\n",
        "        _, predicted = torch.max(outputs, dim=1)\n",
        "        total += labels.shape[0]\n",
        "        correct += int((predicted == labels).sum())\n",
        "\n",
        "print(\"Accuracy: %f\" % (correct / total))"
      ]
    },
    {
      "cell_type": "code",
      "execution_count": null,
      "metadata": {
        "id": "mpH9JdlEgk92"
      },
      "outputs": [],
      "source": [
        "import torch\n",
        "import torch.nn as nn\n",
        "import torch.nn.functional as F\n",
        "\n",
        "class Net(nn.Module):\n",
        "    def __init__(self):\n",
        "        super(Net, self).__init__()\n",
        "        self.conv1 = nn.Conv2d(3, 16, kernel_size=3, padding=1)\n",
        "        self.conv2 = nn.Conv2d(16, 8, kernel_size=3, padding=1)\n",
        "        self.fc1 = nn.Linear(8 * 8 * 8, 32)\n",
        "        self.fc2 = nn.Linear(32, 2)\n",
        "\n",
        "    def forward(self, x):\n",
        "        out = F.max_pool2d(torch.relu(self.conv1(x)), 2)\n",
        "        out = F.max_pool2d(torch.relu(self.conv2(out)), 2)\n",
        "        out = out.view(-1, 8 * 8 * 8)\n",
        "        out = torch.tanh(self.fc1(out))\n",
        "        out = self.fc2(out)\n",
        "        return out\n",
        "\n",
        "model = Net()\n",
        "sum([p.numel() for p in model.parameters()])"
      ]
    },
    {
      "cell_type": "code",
      "execution_count": null,
      "metadata": {
        "id": "_pVzdejkgk93"
      },
      "outputs": [],
      "source": [
        "model = nn.Sequential(\n",
        "            nn.Conv2d(3, 16, kernel_size=3, padding=1),\n",
        "            nn.Tanh(),\n",
        "            nn.MaxPool2d(2),\n",
        "            nn.Conv2d(16, 8, kernel_size=3, padding=1),\n",
        "            nn.Tanh(),\n",
        "            nn.MaxPool2d(2),\n",
        "            nn.Linear(8*8*8, 32),\n",
        "            nn.Tanh(),\n",
        "            nn.Linear(32, 2))\n",
        "\n",
        "model(img.unsqueeze(0))"
      ]
    }
  ]
}