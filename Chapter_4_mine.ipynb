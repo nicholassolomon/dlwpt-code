{
  "nbformat": 4,
  "nbformat_minor": 0,
  "metadata": {
    "colab": {
      "provenance": [],
      "authorship_tag": "ABX9TyN0i4jgg05wtXXqCiPbfylq",
      "include_colab_link": true
    },
    "kernelspec": {
      "name": "python3",
      "display_name": "Python 3"
    },
    "language_info": {
      "name": "python"
    }
  },
  "cells": [
    {
      "cell_type": "markdown",
      "metadata": {
        "id": "view-in-github",
        "colab_type": "text"
      },
      "source": [
        "<a href=\"https://colab.research.google.com/github/nicholassolomon/dlwpt-code/blob/master/Chapter_4_mine.ipynb\" target=\"_parent\"><img src=\"https://colab.research.google.com/assets/colab-badge.svg\" alt=\"Open In Colab\"/></a>"
      ]
    },
    {
      "cell_type": "markdown",
      "source": [
        "# 4 Tensors as Real World Data\n",
        "* https://learning.oreilly.com/library/view/deep-learning-with/9781617295263/Text/04.xhtml#sigil_toc_id_67\n",
        "\n",
        "```\n",
        "01.24.24:\n",
        "```\n",
        "DLWPT"
      ],
      "metadata": {
        "id": "_Jq-ImnDH-HO"
      }
    },
    {
      "cell_type": "code",
      "source": [
        "import torch\n",
        "\n",
        "# get data from book repo\n",
        "!git clone https://github.com/deep-learning-with-pytorch/dlwpt-code.git\n",
        "!mv dlwpt-code/data .\n",
        "!mv dlwpt-code/p1ch4 p1ch4\n",
        "!rm -rf dlwpt-code\n",
        "\n",
        "# set device\n",
        "device = \"cuda\" if torch.cuda.is_available() else \"cpu\"\n",
        "device\n"
      ],
      "metadata": {
        "id": "4rG_pQeC9C-N",
        "colab": {
          "base_uri": "https://localhost:8080/",
          "height": 174
        },
        "outputId": "8481dfe5-c09f-4e39-ac06-d7cf9878ef14"
      },
      "execution_count": 1,
      "outputs": [
        {
          "output_type": "stream",
          "name": "stdout",
          "text": [
            "Cloning into 'dlwpt-code'...\n",
            "remote: Enumerating objects: 703, done.\u001b[K\n",
            "remote: Counting objects: 100% (149/149), done.\u001b[K\n",
            "remote: Compressing objects: 100% (62/62), done.\u001b[K\n",
            "remote: Total 703 (delta 106), reused 87 (delta 87), pack-reused 554\u001b[K\n",
            "Receiving objects: 100% (703/703), 175.17 MiB | 21.27 MiB/s, done.\n",
            "Resolving deltas: 100% (318/318), done.\n",
            "Updating files: 100% (228/228), done.\n"
          ]
        },
        {
          "output_type": "execute_result",
          "data": {
            "text/plain": [
              "'cpu'"
            ],
            "application/vnd.google.colaboratory.intrinsic+json": {
              "type": "string"
            }
          },
          "metadata": {},
          "execution_count": 1
        }
      ]
    },
    {
      "cell_type": "markdown",
      "source": [
        "## 1 Images\n",
        "\n",
        "Stored with:\n",
        "- Height\n",
        "- Width\n",
        "- Channels (colors RGB)\n",
        "\n",
        "Order can change:\n",
        "* Tensors store as HWC\n",
        "* Numpy expects CHW"
      ],
      "metadata": {
        "id": "co7n3zMmJQHR"
      }
    },
    {
      "cell_type": "code",
      "source": [
        "import numpy as np\n",
        "import torch\n",
        "torch.set_printoptions(edgeitems=2, threshold=50)"
      ],
      "metadata": {
        "id": "zIQ7kzIjJSMc"
      },
      "execution_count": 2,
      "outputs": []
    },
    {
      "cell_type": "code",
      "source": [
        "import imageio\n",
        "\n",
        "img_arr = imageio.imread('./data/p1ch4/image-dog/bobby.jpg')\n",
        "img_arr.shape\n"
      ],
      "metadata": {
        "colab": {
          "base_uri": "https://localhost:8080/"
        },
        "id": "vm-DH-4bJY1G",
        "outputId": "4facc0b9-f275-4272-abbf-7ab49fa98bd8"
      },
      "execution_count": 4,
      "outputs": [
        {
          "output_type": "stream",
          "name": "stderr",
          "text": [
            "<ipython-input-4-68a823b9d272>:3: DeprecationWarning: Starting with ImageIO v3 the behavior of this function will switch to that of iio.v3.imread. To keep the current behavior (and make this warning disappear) use `import imageio.v2 as imageio` or call `imageio.v2.imread` directly.\n",
            "  img_arr = imageio.imread('./data/p1ch4/image-dog/bobby.jpg')\n"
          ]
        },
        {
          "output_type": "execute_result",
          "data": {
            "text/plain": [
              "(720, 1280, 3)"
            ]
          },
          "metadata": {},
          "execution_count": 4
        }
      ]
    },
    {
      "cell_type": "code",
      "source": [
        "# permute to  what numpy expects -- CHW\n",
        "img = torch.from_numpy(img_arr)\n",
        "img2 = img.permute(2,0,1)\n",
        "print(img.shape)\n",
        "print(img2.shape)"
      ],
      "metadata": {
        "colab": {
          "base_uri": "https://localhost:8080/"
        },
        "id": "nZFDn-KIJuo3",
        "outputId": "a1372e60-5505-4cea-f8f8-7ea7706fe24a"
      },
      "execution_count": 9,
      "outputs": [
        {
          "output_type": "stream",
          "name": "stdout",
          "text": [
            "torch.Size([256, 256, 3])\n",
            "torch.Size([3, 256, 256])\n"
          ]
        }
      ]
    },
    {
      "cell_type": "code",
      "execution_count": 10,
      "metadata": {
        "scrolled": true,
        "id": "jO12BS5bJNFQ",
        "colab": {
          "base_uri": "https://localhost:8080/"
        },
        "outputId": "02a26092-ad06-4e9c-bfaa-e6770f9f2847"
      },
      "outputs": [
        {
          "output_type": "stream",
          "name": "stdout",
          "text": [
            "3\n"
          ]
        },
        {
          "output_type": "stream",
          "name": "stderr",
          "text": [
            "<ipython-input-10-5dd34bcae418>:10: DeprecationWarning: Starting with ImageIO v3 the behavior of this function will switch to that of iio.v3.imread. To keep the current behavior (and make this warning disappear) use `import imageio.v2 as imageio` or call `imageio.v2.imread` directly.\n",
            "  img_arr = imageio.imread(os.path.join(data_dir, filename))\n"
          ]
        }
      ],
      "source": [
        "import os\n",
        "\n",
        "batch_size = 3\n",
        "batch = torch.zeros(batch_size, 3, 256, 256, dtype=torch.uint8)\n",
        "\n",
        "data_dir = './data/p1ch4/image-cats/'\n",
        "filenames = [name for name in os.listdir(data_dir)\n",
        "             if os.path.splitext(name)[-1] == '.png']\n",
        "for i, filename in enumerate(filenames):\n",
        "    img_arr = imageio.imread(os.path.join(data_dir, filename))\n",
        "    img_t = torch.from_numpy(img_arr)\n",
        "    img_t = img_t.permute(2, 0, 1)\n",
        "    img_t = img_t[:3] # <1>\n",
        "    batch[i] = img_t\n",
        "\n",
        "print(len(batch))"
      ]
    },
    {
      "cell_type": "code",
      "source": [
        "# normalize\n",
        "batch = batch.float()\n",
        "batch /= 255.0\n",
        "\n",
        "n_channels = batch.shape[1]\n",
        "print(f\"n_channels: {n_channels}\")\n",
        "for c in range(n_channels):\n",
        "    mean = torch.mean(batch[:, c])\n",
        "    std = torch.std(batch[:, c])\n",
        "    batch[:, c] = (batch[:, c] - mean) / std"
      ],
      "metadata": {
        "colab": {
          "base_uri": "https://localhost:8080/"
        },
        "id": "lQFkxYx4LFWW",
        "outputId": "a0b645f3-9cbd-4b90-cf64-4e37f0bd8576"
      },
      "execution_count": 12,
      "outputs": [
        {
          "output_type": "stream",
          "name": "stdout",
          "text": [
            "n_channels: 3\n"
          ]
        }
      ]
    }
  ]
}